{
 "cells": [
  {
   "cell_type": "markdown",
   "metadata": {},
   "source": [
    "https://machinelearningmastery.com/one-hot-encoding-for-categorical-data/\n",
    "\n",
    "This is exercise around handling categorical data. Categorical variable typically consists of finite set of discrete labled data.\n",
    "\n",
    "All categorical data should be encoded in neumerical format before they are used to train a model. if prediction label is categorical, prediction needs to be converted back to label data. \n",
    "\n",
    "Most popular ways \n",
    "\n",
    "Ordinal Encoding - for ordinal categorical data - which has natural ordering \n",
    "    \n",
    "        pandars factorize method   https://pandas.pydata.org/pandas-docs/stable/reference/api/pandas.factorize.html\n",
    "        skearn OrdinalEncoder, and LabelEncoder\n",
    "        \n",
    "Note: A numerical variable can be converted in to ordinal categorical varibale by process called discretization. In this process numerical range is devided in various bins. Example number from 1 to 10 in 1-2, 2-4, 5-6 ...\n",
    "\n",
    "One-Hot encoding - for nominal categorical data which don't have natural ordering.\n",
    "\n",
    "\n",
    "Dummey variable encoding\n",
    "\n",
    "\n",
    "\n",
    "@ todo \n",
    "\n",
    "compare OrdinalEncoder vs LabelEncoder vs PD.factorize()\n",
    "\n",
    "\n",
    "\n",
    "Ref:\n",
    "\n",
    "https://pbpython.com/categorical-encoding.html   ## to read.\n",
    "\n"
   ]
  },
  {
   "cell_type": "markdown",
   "metadata": {},
   "source": [
    "#### Ordinal Encoding  \n",
    "\n",
    "Each category is assigned a integer value starting with 0. Number is assigned to sorted varible label. This kind of coading is specially suited for ordinal varaible where exits natural order between value. If this order is captured correctly in the coding model may learn the same. for this care might be required that coding actually captures natural order.\n",
    "\n",
    "for nominal varibale where exisit no natural ordering this might cause problem in some case and One hot encoding can be used in such cases.\n",
    "\n",
    "### LabelEncoder\n",
    "\n",
    "Used typically for y - target variable. Functionally broadly same as OrdinalEncoder \n",
    "\n",
    "There are certain finer difference between this two Encoder based on their useges\n",
    "\n",
    "1. LabelEncoder work on single dimention array vs OrdinalEncoder or two dimetion.\n",
    "2. LavelEncoder doesn't allow to define order vs OrdinalEncoder allows.\n",
    "3. LavelEncoder doesn't allow to ignore unknown label vs OrdinalEncoder allows.\n",
    "\n",
    "\n",
    "order of column is important for OrdinalEncoder       \n"
   ]
  },
  {
   "cell_type": "markdown",
   "metadata": {},
   "source": [
    "pd.factorize method.\n",
    "\n",
    "this is another method to encode categorized field. However this does encoding just intime for given list and doesn't remember previous transformation mapping etc. Hence if we enode [\"paris\", \"paris\", \"tokyo\", \"amsterdam\"] and [\"tokyo\", \"amsterdam\"] tokyo will get different encoding both the time.\n",
    "\n",
    "for any ML model to be meanigful consisitent encoding is important hence pd.factorize method can be used only for quick check but not a serious development.\n"
   ]
  },
  {
   "cell_type": "code",
   "execution_count": null,
   "metadata": {},
   "outputs": [],
   "source": [
    "import pandas as pd\n",
    "from sklearn.ensemble import RandomForestRegressor\n",
    "from sklearn.model_selection import cross_val_score \n",
    "from sklearn.preprocessing import OrdinalEncoder\n",
    "from sklearn.preprocessing import LabelEncoder\n",
    "import numpy as np\n",
    "\n"
   ]
  },
  {
   "cell_type": "code",
   "execution_count": null,
   "metadata": {},
   "outputs": [],
   "source": [
    "# Example LabelEncoder \n",
    "# LabelEncoder typcially used for y - target variable and expect one dimentional array.\n",
    "# Note : in LabelEncoder there is no way to force a particular encoding order - probably because this is for y\n",
    "# and there is no need of specific order\n",
    "\n",
    "y = [\"paris\", \"paris\", \"tokyo\", \"amsterdam\"]\n",
    "\n",
    "le1 = LabelEncoder()\n",
    "\n",
    "le1.fit(y)\n",
    "print(\"le1 - label order \" , le1.classes_)\n",
    "\n",
    "print('transform ')\n",
    "print(\"y \", y)\n",
    "print(\"encoded y \", le1.transform(y))\n",
    "\n",
    "print('inverse transform ')\n",
    "y_t2 = [1,0,0,1,2]\n",
    "y2 = le1.inverse_transform(y_t2)\n",
    "print(\"encoded y\", y_t2)\n",
    "print(\"y\", y2)\n",
    "\n",
    "## this will give error as delhi is never seen and also there is no way to suppress warning.\n",
    "\n",
    "y=[\"tokyo\", \"delhi\"]\n",
    "# y_t = le1.transform(y)  \n",
    "\n"
   ]
  },
  {
   "cell_type": "code",
   "execution_count": null,
   "metadata": {},
   "outputs": [],
   "source": [
    "# Example Ordinal Encoder - Typically used for X - input features\n",
    "\n",
    "oe = OrdinalEncoder()\n",
    "\n",
    "X = [[\"spring\", \"feb\"],[\"summer\", \"june\"],[\"winter\", \"dec\"]]\n",
    "\n",
    "oe.fit(X)\n",
    "\n",
    "print(\"category learned by oe\", oe.categories_)\n",
    "\n",
    "X_t = oe.transform(X)\n",
    "print(X)\n",
    "print(X_t)\n",
    "\n",
    "X_ = oe.inverse_transform(X_t)\n",
    "print(X_)"
   ]
  },
  {
   "cell_type": "code",
   "execution_count": null,
   "metadata": {},
   "outputs": [],
   "source": [
    "# whatif the categories are supplied out of order - guess error ?\n",
    "\n",
    "X2=[[ \"feb\", \"spring\"],[ \"june\", \"summer\"],[\"dec\", \"winter\"]]\n",
    "\n",
    "X2_t = oe.transform(X2)"
   ]
  },
  {
   "cell_type": "code",
   "execution_count": null,
   "metadata": {},
   "outputs": [],
   "source": [
    "# giving user defined encoding order\n",
    "\n",
    "seasons = ['spring', 'winter', 'summer']\n",
    "months =  ['jan', 'feb', 'june', 'dec']\n",
    "\n",
    "oe2 = OrdinalEncoder(categories=[seasons, months])\n",
    "\n",
    "X = [[\"spring\", \"feb\"],[\"summer\", \"june\"],[\"winter\", \"dec\"]]\n",
    "\n",
    "oe2.fit([[\"summer\", \"jan\"]]) # while we have  configured the encoder through constructor , fit still need to be called :)\n",
    "X_t = oe2.transform(X)\n",
    "X_ = oe2.inverse_transform(X_t)\n",
    "\n",
    "print(X)\n",
    "print(X_t)\n",
    "print(X_)"
   ]
  },
  {
   "cell_type": "markdown",
   "metadata": {},
   "source": [
    "Categorical Fields\n",
    "\n",
    "    Nominal\n",
    "    \n",
    "        menopause\n",
    "        breast\n",
    "        breast-quad\n",
    "        \n",
    "    Ordinal \n",
    "\n",
    "        age \n",
    "        tumor-size\n",
    "        inv-nodes\n",
    "        deg-malig\n",
    "        \n",
    "    binary\n",
    "        node-caps\n",
    "        irradiat\n",
    "        \n",
    "\n",
    "\n",
    "we will use one hot encodign for nominal field and intergr coding for ordinal field.\n",
    "For ordinal field we shall make use of ranking 0 to n in synch with domain rule\n",
    "binary will be represnted by 0 and 1."
   ]
  },
  {
   "cell_type": "code",
   "execution_count": null,
   "metadata": {},
   "outputs": [],
   "source": [
    "1. # this is my list of cities in some order of preference i want encoding to be done in this same order consisten.\n",
    "\n",
    "2 # OneHotEncoding vs get_dummies \n",
    "# https://stackoverflow.com/questions/36631163/what-are-the-pros-and-cons-between-get-dummies-pandas-and-onehotencoder-sciki\n",
    "\n",
    "cities = ['tokyo', 'delhi', 'shanghai', 'sao paulo', 'maxico', 'ny', 'paris'] \n",
    "city_1 = ['shanghai', 'sao paulo' ,'tokyo', 'delhi']\n",
    "city_2 = ['paris' , 'maxico', 'ny', 'shanghai']\n",
    "\n",
    "code, unique = pd.factorize(cities)\n",
    "code_1, unique_1 = pd.factorize(city_1)\n",
    "code_2, unique_2 = pd.factorize(city_2)\n",
    "\n",
    "print(\"Cities\", cities)\n",
    "print(\"Codes\", code)\n",
    "print(unique)\n",
    "print('')\n",
    "print(\"Cities\", city_1)\n",
    "print(\"Codes\", code_1)\n",
    "print(unique_1)\n",
    "print('')\n",
    "\n",
    "print(\"Cities\", city_2)\n",
    "print(\"Codes\", code_2)\n",
    "print(unique_2)\n",
    "\n",
    "print('Note shanghai is mapped to 2, 0 and 3 respectively and there is no way to focre same mapping ')\n",
    "print('factorization either incodes in order of label appearence in given data or sorted order')\n",
    "\n",
    "# now lets try to make use of LabelEncoder\n",
    "\n",
    "print()\n",
    "print(\" ######## LabelEncoder ####### \")\n",
    "print()\n",
    "\n",
    "le = LabelEncoder()\n",
    "le.fit(cities)\n",
    "\n",
    "print(\"LabelEncoder.classes_\", le.classes_)\n",
    "\n",
    "print(\"Cities\", cities)\n",
    "print(\"Codes\", le.transform(cities))\n",
    "\n",
    "print('')\n",
    "print(\"Cities\", city_1)\n",
    "print(\"Codes\", le.transform(city_1))\n",
    "\n",
    "print('')\n",
    "\n",
    "print(\"Cities\", city_2)\n",
    "print(\"Codes\", le.transform(city_2))\n",
    "\n",
    "print('Note shanghai is mapped to 5 in all the cases.')\n",
    "print(\"LabelEncoder allows consistend incoding but doesn't allow any control on order\")\n",
    "\n",
    "\n",
    "# now lets try to make use of LabelEncoder\n",
    "\n",
    "print()\n",
    "print(\" ######## OrdinalEncoder ####### \")\n",
    "print()\n",
    "\n",
    "\n",
    "ordered_cities = ['delhi', 'shanghai', 'tokyo', 'maxico', 'paris', 'sao paulo',  'ny'] \n",
    "oe = OrdinalEncoder(categories=[ordered_cities])\n",
    "\n",
    "# OrdinalEncoder is designed for X - feature variable expect two dimention arrary one row every feature.\n",
    "\n",
    "city_feature = np.array(ordered_cities).reshape(-1,1).tolist()\n",
    "\n",
    "oe.fit(city_feature)\n",
    "\n",
    "city_1 = ['shanghai', 'sao paulo' ,'tokyo', 'delhi']\n",
    "city_2 = ['paris' , 'maxico', 'ny', 'shanghai']\n",
    "\n",
    "city_1_feature = np.array(city_1).reshape(-1, 1).tolist()\n",
    "city_2_feature = np.array(city_2).reshape(-1, 1).tolist()\n",
    "\n",
    "\n",
    "print(\"oe.categories\", oe.categories_)\n",
    "\n",
    "print(\"Cities\", city_feature)\n",
    "print(\"Codes\", oe.transform(city_feature))\n",
    "\n",
    "print('')\n",
    "print(\"Cities\", city_1_feature)\n",
    "print(\"Codes\", oe.transform(city_1_feature))\n",
    "\n",
    "print('')\n",
    "\n",
    "print(\"Cities\", city_2_feature)\n",
    "print(\"Codes\", oe.transform(city_2_feature))"
   ]
  },
  {
   "cell_type": "code",
   "execution_count": null,
   "metadata": {},
   "outputs": [],
   "source": [
    "from sklearn.preprocessing import OneHotEncoder\n",
    "\n",
    "## what abt LabelBinarizer ????\n",
    "\n",
    "colors = ['red', 'blue', 'green', 'yellow']\n",
    "sizes=['S', 'M', 'L', 'XL', 'XXL']\n",
    "\n",
    "ohe = OneHotEncoder(categories=[colors, sizes], sparse=False)\n",
    "ohe.fit([['red', 'S']])\n",
    "\n",
    "data = [['red', 'L'],['green','M'],['yellow', 'XL'],['blue', 'XXL']]\n",
    "\n",
    "print(ohe.categories_)\n",
    "print(data)\n",
    "print(ohe.transform(data))\n",
    "\n",
    "print(ohe.get_feature_names(['color', 'size']))"
   ]
  },
  {
   "cell_type": "code",
   "execution_count": null,
   "metadata": {},
   "outputs": [],
   "source": [
    "df = pd.DataFrame(data, columns=['color', 'size'])\n",
    "print(df)"
   ]
  },
  {
   "cell_type": "code",
   "execution_count": null,
   "metadata": {},
   "outputs": [],
   "source": [
    "pd.get_dummies(df)"
   ]
  },
  {
   "cell_type": "code",
   "execution_count": null,
   "metadata": {},
   "outputs": [],
   "source": [
    "# pandas.get_dummies(data, prefix=None, prefix_sep='_', dummy_na=False, columns=None, sparse=False, drop_first=False, dtype=None)[source]\n",
    "\n",
    "\n",
    "pd.get_dummies(df,  columns=['color', 'size'])"
   ]
  },
  {
   "cell_type": "code",
   "execution_count": null,
   "metadata": {},
   "outputs": [],
   "source": [
    "ids = [11, 22, 33, 44, 55]\n",
    "countries = ['Spain', 'France', 'Spain', 'Germany', 'France']\n",
    "\n",
    "df = pd.DataFrame(data={'id':ids, 'country':countries})\n",
    "print(df)"
   ]
  },
  {
   "cell_type": "code",
   "execution_count": null,
   "metadata": {},
   "outputs": [],
   "source": [
    "pd.get_dummies(df, columns=['country'])"
   ]
  },
  {
   "cell_type": "markdown",
   "metadata": {},
   "source": [
    "### Breast Cancer\n",
    "\n",
    "Attrubute information \n",
    "\n",
    "1. Class: no-recurrence-events, recurrence-events  \n",
    "2. age: 10-19, 20-29, 30-39, 40-49, 50-59, 60-69, 70-79, 80-89, 90-99.   - Categorical , Ordinal \n",
    "3. menopause: lt40, ge40, premeno.  - Categorical nominal\n",
    "4. tumor-size: 0-4, 5-9, 10-14, 15-19, 20-24, 25-29, 30-34, 35-39, 40-44, 45-49, 50-54, 55-59. - Categorical , Ordinal \n",
    "5. inv-nodes: 0-2, 3-5, 6-8, 9-11, 12-14, 15-17, 18-20, 21-23, 24-26, 27-29, 30-32, 33-35, 36-39.  Categorical , Ordinal \n",
    "6. node-caps: yes, no.   Binary - use ordinal 1 for Yes (what if there is nan ? use HotEncoding\n",
    "7. deg-malig: 1, 2, 3.    Categorical , Ordinal \n",
    "8. breast: left, right.    Categorical nominal\n",
    "9. breast-quad: left-up, left-low, right-up, right-low, central.    Categorical nominal\n",
    "10. irradiat: yes, no.  Binary - use ordinal 1 for Yes\n",
    "\n",
    "\n",
    "A reasonable classification accuracy score on this dataset is between 68 percent and 73\n",
    "\n",
    "Note that this dataset has missing values marked with a “nan” value.\n",
    "\n",
    "We will leave these values as-is in this tutorial and use the encoding schemes to encode “nan” as just another value. This is one possible and quite reasonable approach to handling missing values for categorical variables."
   ]
  },
  {
   "cell_type": "code",
   "execution_count": 139,
   "metadata": {},
   "outputs": [
    {
     "name": "stdout",
     "output_type": "stream",
     "text": [
      "       age  menopause tumor_size inv_nodes node_caps deg_malig   breast  \\\n",
      "0  '40-49'  'premeno'    '15-19'     '0-2'     'yes'       '3'  'right'   \n",
      "1  '50-59'     'ge40'    '15-19'     '0-2'      'no'       '1'  'right'   \n",
      "2  '50-59'     'ge40'    '35-39'     '0-2'      'no'       '2'   'left'   \n",
      "3  '40-49'  'premeno'    '35-39'     '0-2'     'yes'       '3'  'right'   \n",
      "4  '40-49'  'premeno'    '30-34'     '3-5'     'yes'       '2'   'left'   \n",
      "\n",
      "  breast_quad irradiat                   class  \n",
      "0   'left_up'     'no'     'recurrence-events'  \n",
      "1   'central'     'no'  'no-recurrence-events'  \n",
      "2  'left_low'     'no'     'recurrence-events'  \n",
      "3  'left_low'    'yes'  'no-recurrence-events'  \n",
      "4  'right_up'     'no'     'recurrence-events'  \n"
     ]
    }
   ],
   "source": [
    "import pandas as pd\n",
    "from sklearn.preprocessing import OrdinalEncoder\n",
    "from sklearn.preprocessing import LabelEncoder\n",
    "from sklearn.model_selection import train_test_split\n",
    "\n",
    "from sklearn.linear_model import LogisticRegression\n",
    "from sklearn.metrics import accuracy_score\n",
    "\n",
    "cancer_df = pd.read_csv('./data/breast-cancer.csv')\n",
    "\n",
    "print(cancer_df.head())\n",
    "\n",
    "X = cancer_df.copy()\n",
    "y = X.pop('class')"
   ]
  },
  {
   "cell_type": "code",
   "execution_count": 140,
   "metadata": {},
   "outputs": [
    {
     "name": "stdout",
     "output_type": "stream",
     "text": [
      "Input (286, 9)\n",
      "Output (286,)\n"
     ]
    }
   ],
   "source": [
    "print('Input', X.shape)\n",
    "print('Output', y.shape)"
   ]
  },
  {
   "cell_type": "code",
   "execution_count": 141,
   "metadata": {},
   "outputs": [],
   "source": [
    "# make this code generic\n",
    "\n",
    "X.breast_quad = X.breast_quad.astype(str) \n",
    "X.node_caps = X.node_caps.astype(str) "
   ]
  },
  {
   "cell_type": "code",
   "execution_count": 142,
   "metadata": {},
   "outputs": [],
   "source": [
    "# As expected use OrdinalEncoder for X and LabelEncoder for y\n",
    "\n",
    "X_encoder = OrdinalEncoder()\n",
    "X_t = X_encoder.fit_transform(X)\n",
    "y_encoder = LabelEncoder()\n",
    "y_t = y_encoder.fit_transform(y)"
   ]
  },
  {
   "cell_type": "code",
   "execution_count": 143,
   "metadata": {},
   "outputs": [
    {
     "data": {
      "text/html": [
       "<div>\n",
       "<style scoped>\n",
       "    .dataframe tbody tr th:only-of-type {\n",
       "        vertical-align: middle;\n",
       "    }\n",
       "\n",
       "    .dataframe tbody tr th {\n",
       "        vertical-align: top;\n",
       "    }\n",
       "\n",
       "    .dataframe thead th {\n",
       "        text-align: right;\n",
       "    }\n",
       "</style>\n",
       "<table border=\"1\" class=\"dataframe\">\n",
       "  <thead>\n",
       "    <tr style=\"text-align: right;\">\n",
       "      <th></th>\n",
       "      <th>age</th>\n",
       "      <th>menopause</th>\n",
       "      <th>tumor_size</th>\n",
       "      <th>inv_nodes</th>\n",
       "      <th>node_caps</th>\n",
       "      <th>deg_malig</th>\n",
       "      <th>breast</th>\n",
       "      <th>breast_quad</th>\n",
       "      <th>irradiat</th>\n",
       "    </tr>\n",
       "  </thead>\n",
       "  <tbody>\n",
       "    <tr>\n",
       "      <th>0</th>\n",
       "      <td>'40-49'</td>\n",
       "      <td>'premeno'</td>\n",
       "      <td>'15-19'</td>\n",
       "      <td>'0-2'</td>\n",
       "      <td>'yes'</td>\n",
       "      <td>'3'</td>\n",
       "      <td>'right'</td>\n",
       "      <td>'left_up'</td>\n",
       "      <td>'no'</td>\n",
       "    </tr>\n",
       "    <tr>\n",
       "      <th>1</th>\n",
       "      <td>'50-59'</td>\n",
       "      <td>'ge40'</td>\n",
       "      <td>'15-19'</td>\n",
       "      <td>'0-2'</td>\n",
       "      <td>'no'</td>\n",
       "      <td>'1'</td>\n",
       "      <td>'right'</td>\n",
       "      <td>'central'</td>\n",
       "      <td>'no'</td>\n",
       "    </tr>\n",
       "    <tr>\n",
       "      <th>2</th>\n",
       "      <td>'50-59'</td>\n",
       "      <td>'ge40'</td>\n",
       "      <td>'35-39'</td>\n",
       "      <td>'0-2'</td>\n",
       "      <td>'no'</td>\n",
       "      <td>'2'</td>\n",
       "      <td>'left'</td>\n",
       "      <td>'left_low'</td>\n",
       "      <td>'no'</td>\n",
       "    </tr>\n",
       "    <tr>\n",
       "      <th>3</th>\n",
       "      <td>'40-49'</td>\n",
       "      <td>'premeno'</td>\n",
       "      <td>'35-39'</td>\n",
       "      <td>'0-2'</td>\n",
       "      <td>'yes'</td>\n",
       "      <td>'3'</td>\n",
       "      <td>'right'</td>\n",
       "      <td>'left_low'</td>\n",
       "      <td>'yes'</td>\n",
       "    </tr>\n",
       "    <tr>\n",
       "      <th>4</th>\n",
       "      <td>'40-49'</td>\n",
       "      <td>'premeno'</td>\n",
       "      <td>'30-34'</td>\n",
       "      <td>'3-5'</td>\n",
       "      <td>'yes'</td>\n",
       "      <td>'2'</td>\n",
       "      <td>'left'</td>\n",
       "      <td>'right_up'</td>\n",
       "      <td>'no'</td>\n",
       "    </tr>\n",
       "    <tr>\n",
       "      <th>...</th>\n",
       "      <td>...</td>\n",
       "      <td>...</td>\n",
       "      <td>...</td>\n",
       "      <td>...</td>\n",
       "      <td>...</td>\n",
       "      <td>...</td>\n",
       "      <td>...</td>\n",
       "      <td>...</td>\n",
       "      <td>...</td>\n",
       "    </tr>\n",
       "    <tr>\n",
       "      <th>281</th>\n",
       "      <td>'50-59'</td>\n",
       "      <td>'ge40'</td>\n",
       "      <td>'30-34'</td>\n",
       "      <td>'6-8'</td>\n",
       "      <td>'yes'</td>\n",
       "      <td>'2'</td>\n",
       "      <td>'left'</td>\n",
       "      <td>'left_low'</td>\n",
       "      <td>'no'</td>\n",
       "    </tr>\n",
       "    <tr>\n",
       "      <th>282</th>\n",
       "      <td>'50-59'</td>\n",
       "      <td>'premeno'</td>\n",
       "      <td>'25-29'</td>\n",
       "      <td>'3-5'</td>\n",
       "      <td>'yes'</td>\n",
       "      <td>'2'</td>\n",
       "      <td>'left'</td>\n",
       "      <td>'left_low'</td>\n",
       "      <td>'yes'</td>\n",
       "    </tr>\n",
       "    <tr>\n",
       "      <th>283</th>\n",
       "      <td>'30-39'</td>\n",
       "      <td>'premeno'</td>\n",
       "      <td>'30-34'</td>\n",
       "      <td>'6-8'</td>\n",
       "      <td>'yes'</td>\n",
       "      <td>'2'</td>\n",
       "      <td>'right'</td>\n",
       "      <td>'right_up'</td>\n",
       "      <td>'no'</td>\n",
       "    </tr>\n",
       "    <tr>\n",
       "      <th>284</th>\n",
       "      <td>'50-59'</td>\n",
       "      <td>'premeno'</td>\n",
       "      <td>'15-19'</td>\n",
       "      <td>'0-2'</td>\n",
       "      <td>'no'</td>\n",
       "      <td>'2'</td>\n",
       "      <td>'right'</td>\n",
       "      <td>'left_low'</td>\n",
       "      <td>'no'</td>\n",
       "    </tr>\n",
       "    <tr>\n",
       "      <th>285</th>\n",
       "      <td>'50-59'</td>\n",
       "      <td>'ge40'</td>\n",
       "      <td>'40-44'</td>\n",
       "      <td>'0-2'</td>\n",
       "      <td>'no'</td>\n",
       "      <td>'3'</td>\n",
       "      <td>'left'</td>\n",
       "      <td>'right_up'</td>\n",
       "      <td>'no'</td>\n",
       "    </tr>\n",
       "  </tbody>\n",
       "</table>\n",
       "<p>286 rows × 9 columns</p>\n",
       "</div>"
      ],
      "text/plain": [
       "         age  menopause tumor_size inv_nodes node_caps deg_malig   breast  \\\n",
       "0    '40-49'  'premeno'    '15-19'     '0-2'     'yes'       '3'  'right'   \n",
       "1    '50-59'     'ge40'    '15-19'     '0-2'      'no'       '1'  'right'   \n",
       "2    '50-59'     'ge40'    '35-39'     '0-2'      'no'       '2'   'left'   \n",
       "3    '40-49'  'premeno'    '35-39'     '0-2'     'yes'       '3'  'right'   \n",
       "4    '40-49'  'premeno'    '30-34'     '3-5'     'yes'       '2'   'left'   \n",
       "..       ...        ...        ...       ...       ...       ...      ...   \n",
       "281  '50-59'     'ge40'    '30-34'     '6-8'     'yes'       '2'   'left'   \n",
       "282  '50-59'  'premeno'    '25-29'     '3-5'     'yes'       '2'   'left'   \n",
       "283  '30-39'  'premeno'    '30-34'     '6-8'     'yes'       '2'  'right'   \n",
       "284  '50-59'  'premeno'    '15-19'     '0-2'      'no'       '2'  'right'   \n",
       "285  '50-59'     'ge40'    '40-44'     '0-2'      'no'       '3'   'left'   \n",
       "\n",
       "    breast_quad irradiat  \n",
       "0     'left_up'     'no'  \n",
       "1     'central'     'no'  \n",
       "2    'left_low'     'no'  \n",
       "3    'left_low'    'yes'  \n",
       "4    'right_up'     'no'  \n",
       "..          ...      ...  \n",
       "281  'left_low'     'no'  \n",
       "282  'left_low'    'yes'  \n",
       "283  'right_up'     'no'  \n",
       "284  'left_low'     'no'  \n",
       "285  'right_up'     'no'  \n",
       "\n",
       "[286 rows x 9 columns]"
      ]
     },
     "execution_count": 143,
     "metadata": {},
     "output_type": "execute_result"
    }
   ],
   "source": [
    "X"
   ]
  },
  {
   "cell_type": "code",
   "execution_count": 144,
   "metadata": {},
   "outputs": [
    {
     "name": "stdout",
     "output_type": "stream",
     "text": [
      "Accuracy: 73.68\n",
      "Accuracy: 70.53\n",
      "Accuracy: 80.00\n",
      "Accuracy: 72.63\n",
      "Accuracy: 71.58\n",
      "Accuracy: 67.37\n",
      "Accuracy: 78.95\n",
      "Accuracy: 82.11\n",
      "Accuracy: 69.47\n",
      "Accuracy: 71.58\n",
      "Average Accuracy: 73.79\n"
     ]
    }
   ],
   "source": [
    "accuracy = 0.0\n",
    "\n",
    "for i in range(10):\n",
    "    X_train, X_test, y_train, y_test = train_test_split(X_t, y_t,  test_size=0.33)\n",
    "    model = LogisticRegression()\n",
    "    # fit on the training set\n",
    "    model.fit(X_train, y_train)\n",
    "    # predict on test set\n",
    "    yhat = model.predict(X_test)\n",
    "    # evaluate predictions\n",
    "    this_score = accuracy_score(y_test, yhat)\n",
    "    accuracy = accuracy + this_score\n",
    "    print('Accuracy: %.2f' % (this_score*100))\n",
    "\n",
    "\n",
    "print('Average Accuracy: %.2f' % (accuracy*100/10))"
   ]
  },
  {
   "cell_type": "code",
   "execution_count": 116,
   "metadata": {},
   "outputs": [],
   "source": [
    "from sklearn.preprocessing import OneHotEncoder\n",
    "\n",
    "\n",
    "onehot_encoder = OneHotEncoder(sparse=False)\n",
    "X_onehotencoded = onehot_encoder.fit_transform(X)"
   ]
  },
  {
   "cell_type": "code",
   "execution_count": null,
   "metadata": {},
   "outputs": [],
   "source": [
    "X_onehotencoded.shape"
   ]
  },
  {
   "cell_type": "code",
   "execution_count": null,
   "metadata": {},
   "outputs": [],
   "source": [
    "X_onehotencoded[:5,:]"
   ]
  },
  {
   "cell_type": "code",
   "execution_count": null,
   "metadata": {},
   "outputs": [],
   "source": [
    "onehot_encoder.categories_"
   ]
  },
  {
   "cell_type": "code",
   "execution_count": null,
   "metadata": {},
   "outputs": [],
   "source": [
    "X_train, X_test, y_train, y_test = train_test_split(X_onehotencoded, y_t,  test_size=0.33, random_state=1)"
   ]
  },
  {
   "cell_type": "code",
   "execution_count": null,
   "metadata": {},
   "outputs": [],
   "source": [
    "model = LogisticRegression()\n",
    "# fit on the training set\n",
    "model.fit(X_train, y_train)\n",
    "# predict on test set\n",
    "yhat = model.predict(X_test)\n",
    "# evaluate predictions\n",
    "accuracy = accuracy_score(y_test, yhat)\n",
    "print('Accuracy: %.2f' % (accuracy*100))"
   ]
  },
  {
   "cell_type": "code",
   "execution_count": 7,
   "metadata": {},
   "outputs": [],
   "source": [
    "# for following columns we will use OrdinalEncoding\n",
    "\n",
    "\n",
    "age_ord_list = [\"'10-19'\", \"'20-29'\", \"'30-39'\", \"'40-49'\", \"'50-59'\", \"'60-69'\", \"'70-79'\", \"'80-89'\", \"'90-99'\"]\n",
    "tumor_size_ord_list = [\"'0-4'\", \"'5-9'\", \"'10-14'\", \"'15-19'\", \"'20-24'\", \"'25-29'\", \"'30-34'\", \"'35-39'\", \"'40-44'\", \"'45-49'\", \"'50-54'\", \"'55-59'\"] \n",
    "inv_nodes_ord_list = [\"'0-2'\", \"'3-5'\", \"'6-8'\", \"'9-11'\", \"'12-14'\", \"'15-17'\", \"'18-20'\", \"'21-23'\", \"'24-26'\", \"'27-29'\", \"'30-32'\", \"'33-35'\", \"'36-39'\"]\n",
    "deg_malig_ord_list = [\"'1'\", \"'2'\", \"'3'\"]\n",
    "\n",
    "\n"
   ]
  },
  {
   "cell_type": "code",
   "execution_count": 8,
   "metadata": {},
   "outputs": [],
   "source": [
    "X_1 = pd.DataFrame()\n",
    "X_1['age'] = X['age']\n",
    "X_1['tumor_size'] = X['tumor_size']\n",
    "X_1['inv_nodes'] = X['inv_nodes']\n",
    "X_1['deg_malig'] = X['deg_malig'] "
   ]
  },
  {
   "cell_type": "code",
   "execution_count": 9,
   "metadata": {},
   "outputs": [
    {
     "data": {
      "text/plain": [
       "OrdinalEncoder(categories=[[\"'10-19'\", \"'20-29'\", \"'30-39'\", \"'40-49'\",\n",
       "                            \"'50-59'\", \"'60-69'\", \"'70-79'\", \"'80-89'\",\n",
       "                            \"'90-99'\"],\n",
       "                           [\"'0-4'\", \"'5-9'\", \"'10-14'\", \"'15-19'\", \"'20-24'\",\n",
       "                            \"'25-29'\", \"'30-34'\", \"'35-39'\", \"'40-44'\",\n",
       "                            \"'45-49'\", \"'50-54'\", \"'55-59'\"],\n",
       "                           [\"'0-2'\", \"'3-5'\", \"'6-8'\", \"'9-11'\", \"'12-14'\",\n",
       "                            \"'15-17'\", \"'18-20'\", \"'21-23'\", \"'24-26'\",\n",
       "                            \"'27-29'\", \"'30-32'\", \"'33-35'\", \"'36-39'\"],\n",
       "                           [\"'1'\", \"'2'\", \"'3'\"]])"
      ]
     },
     "execution_count": 9,
     "metadata": {},
     "output_type": "execute_result"
    }
   ],
   "source": [
    "oe = OrdinalEncoder(categories=[age_ord_list, tumor_size_ord_list, inv_nodes_ord_list, deg_malig_ord_list])\n",
    "oe.fit(X_1)"
   ]
  },
  {
   "cell_type": "code",
   "execution_count": 10,
   "metadata": {},
   "outputs": [],
   "source": [
    "X_1_t = oe.transform(X_1)"
   ]
  },
  {
   "cell_type": "code",
   "execution_count": 11,
   "metadata": {},
   "outputs": [
    {
     "name": "stdout",
     "output_type": "stream",
     "text": [
      "       age tumor_size inv_nodes deg_malig\n",
      "0  '40-49'    '15-19'     '0-2'       '3'\n",
      "1  '50-59'    '15-19'     '0-2'       '1'\n",
      "2  '50-59'    '35-39'     '0-2'       '2'\n",
      "3  '40-49'    '35-39'     '0-2'       '3'\n",
      "4  '40-49'    '30-34'     '3-5'       '2'\n",
      "[[3. 3. 0. 2.]\n",
      " [4. 3. 0. 0.]\n",
      " [4. 7. 0. 1.]\n",
      " [3. 7. 0. 2.]\n",
      " [3. 6. 1. 1.]]\n"
     ]
    }
   ],
   "source": [
    "print(X_1.head())\n",
    "print(X_1_t[:5])"
   ]
  },
  {
   "cell_type": "code",
   "execution_count": 12,
   "metadata": {},
   "outputs": [],
   "source": [
    "X_2 = pd.DataFrame()\n",
    "X_2['menopause'] = X['menopause'].astype(str) \n",
    "X_2['node_caps'] = X['node_caps'].astype(str) \n",
    "X_2['breast'] = X['breast'].astype(str) \n",
    "X_2['breast_quad'] = X['breast_quad'].astype(str) \n",
    "X_2['irradiat'] = X['irradiat'].astype(str) "
   ]
  },
  {
   "cell_type": "code",
   "execution_count": 13,
   "metadata": {},
   "outputs": [
    {
     "data": {
      "text/html": [
       "<div>\n",
       "<style scoped>\n",
       "    .dataframe tbody tr th:only-of-type {\n",
       "        vertical-align: middle;\n",
       "    }\n",
       "\n",
       "    .dataframe tbody tr th {\n",
       "        vertical-align: top;\n",
       "    }\n",
       "\n",
       "    .dataframe thead th {\n",
       "        text-align: right;\n",
       "    }\n",
       "</style>\n",
       "<table border=\"1\" class=\"dataframe\">\n",
       "  <thead>\n",
       "    <tr style=\"text-align: right;\">\n",
       "      <th></th>\n",
       "      <th>menopause</th>\n",
       "      <th>node_caps</th>\n",
       "      <th>breast</th>\n",
       "      <th>breast_quad</th>\n",
       "      <th>irradiat</th>\n",
       "    </tr>\n",
       "  </thead>\n",
       "  <tbody>\n",
       "    <tr>\n",
       "      <th>20</th>\n",
       "      <td>'lt40'</td>\n",
       "      <td>nan</td>\n",
       "      <td>'left'</td>\n",
       "      <td>'left_low'</td>\n",
       "      <td>'no'</td>\n",
       "    </tr>\n",
       "  </tbody>\n",
       "</table>\n",
       "</div>"
      ],
      "text/plain": [
       "   menopause node_caps  breast breast_quad irradiat\n",
       "20    'lt40'       nan  'left'  'left_low'     'no'"
      ]
     },
     "execution_count": 13,
     "metadata": {},
     "output_type": "execute_result"
    }
   ],
   "source": [
    "X_2[20:21]"
   ]
  },
  {
   "cell_type": "code",
   "execution_count": 16,
   "metadata": {},
   "outputs": [
    {
     "data": {
      "text/plain": [
       "OneHotEncoder(sparse=False)"
      ]
     },
     "execution_count": 16,
     "metadata": {},
     "output_type": "execute_result"
    }
   ],
   "source": [
    "ohe = OneHotEncoder(sparse=False)\n",
    "ohe.fit(X_2)"
   ]
  },
  {
   "cell_type": "code",
   "execution_count": 17,
   "metadata": {},
   "outputs": [
    {
     "data": {
      "text/plain": [
       "[array([\"'ge40'\", \"'lt40'\", \"'premeno'\"], dtype=object),\n",
       " array([\"'no'\", \"'yes'\", 'nan'], dtype=object),\n",
       " array([\"'left'\", \"'right'\"], dtype=object),\n",
       " array([\"'central'\", \"'left_low'\", \"'left_up'\", \"'right_low'\",\n",
       "        \"'right_up'\", 'nan'], dtype=object),\n",
       " array([\"'no'\", \"'yes'\"], dtype=object)]"
      ]
     },
     "execution_count": 17,
     "metadata": {},
     "output_type": "execute_result"
    }
   ],
   "source": [
    "ohe.categories_"
   ]
  },
  {
   "cell_type": "code",
   "execution_count": null,
   "metadata": {},
   "outputs": [],
   "source": [
    "X_2_t = ohe.transform(X_2)\n",
    "print(X_2.head())\n",
    "print(X_2_t[:5])"
   ]
  },
  {
   "cell_type": "code",
   "execution_count": null,
   "metadata": {},
   "outputs": [],
   "source": [
    "type(X_2_t)"
   ]
  },
  {
   "cell_type": "code",
   "execution_count": null,
   "metadata": {},
   "outputs": [],
   "source": [
    "y_encoder = LabelEncoder()\n",
    "y_t = y_encoder.fit_transform(y)"
   ]
  },
  {
   "cell_type": "code",
   "execution_count": null,
   "metadata": {},
   "outputs": [],
   "source": [
    "print(X_1_t.shape)\n",
    "print(X_2_t.shape)\n",
    "print(y_t.shape)"
   ]
  },
  {
   "cell_type": "code",
   "execution_count": null,
   "metadata": {},
   "outputs": [],
   "source": [
    "X_t = np.concatenate((X_1_t, X_2_t), axis=1)\n",
    "print(X_t.shape)"
   ]
  },
  {
   "cell_type": "code",
   "execution_count": null,
   "metadata": {},
   "outputs": [],
   "source": [
    "accuracy = 0.0\n",
    "\n",
    "for i in range(10):\n",
    "    X_train, X_test, y_train, y_test = train_test_split(X_t, y_t,  test_size=0.33)\n",
    "    model = LogisticRegression()\n",
    "    # fit on the training set\n",
    "    model.fit(X_train, y_train)\n",
    "    # predict on test set\n",
    "    yhat = model.predict(X_test)\n",
    "    # evaluate predictions\n",
    "    this_score = accuracy_score(y_test, yhat)\n",
    "    accuracy = accuracy + this_score\n",
    "    print('Accuracy: %.2f' % (this_score*100))\n",
    "    \n",
    "    \n",
    "print('Average Accuracy: %.2f' % (accuracy*100/10))\n"
   ]
  },
  {
   "cell_type": "code",
   "execution_count": null,
   "metadata": {},
   "outputs": [],
   "source": [
    "for i in range(10):\n",
    "    print(i)"
   ]
  },
  {
   "cell_type": "markdown",
   "metadata": {},
   "source": [
    "## Let try to check MI on breast cancer data\n",
    "\n",
    "\n",
    "this is a classification (and not regresison) problem hence we will use mutual_info_classif and not mutual_info_regression.\n",
    "\n",
    "\n"
   ]
  },
  {
   "cell_type": "code",
   "execution_count": 145,
   "metadata": {},
   "outputs": [
    {
     "name": "stdout",
     "output_type": "stream",
     "text": [
      "       age  menopause tumor_size inv_nodes node_caps deg_malig   breast  \\\n",
      "0  '40-49'  'premeno'    '15-19'     '0-2'     'yes'       '3'  'right'   \n",
      "1  '50-59'     'ge40'    '15-19'     '0-2'      'no'       '1'  'right'   \n",
      "2  '50-59'     'ge40'    '35-39'     '0-2'      'no'       '2'   'left'   \n",
      "3  '40-49'  'premeno'    '35-39'     '0-2'     'yes'       '3'  'right'   \n",
      "4  '40-49'  'premeno'    '30-34'     '3-5'     'yes'       '2'   'left'   \n",
      "\n",
      "  breast_quad irradiat                   class  \n",
      "0   'left_up'     'no'     'recurrence-events'  \n",
      "1   'central'     'no'  'no-recurrence-events'  \n",
      "2  'left_low'     'no'     'recurrence-events'  \n",
      "3  'left_low'    'yes'  'no-recurrence-events'  \n",
      "4  'right_up'     'no'     'recurrence-events'  \n"
     ]
    }
   ],
   "source": [
    "import pandas as pd\n",
    "from sklearn.preprocessing import OrdinalEncoder\n",
    "from sklearn.preprocessing import LabelEncoder\n",
    "from sklearn.feature_selection import mutual_info_classif\n",
    "\n",
    "cancer_df = pd.read_csv('./data/breast-cancer.csv')\n",
    "print(cancer_df.head())\n",
    "X = cancer_df.copy()\n",
    "y = X.pop('class')"
   ]
  },
  {
   "cell_type": "code",
   "execution_count": 146,
   "metadata": {},
   "outputs": [],
   "source": [
    "# convert all columns to string to take care of nan\n",
    "for column in X.columns:\n",
    "    X[column] = X[column].astype(str) \n",
    "    \n",
    "# encode to numbers     \n",
    "oe = OrdinalEncoder()\n",
    "oe.fit(X)\n",
    "X_t = oe.transform(X)\n",
    "\n",
    "\n",
    "le = LabelEncoder()\n",
    "y_t = le.fit_transform(y)"
   ]
  },
  {
   "cell_type": "code",
   "execution_count": 148,
   "metadata": {},
   "outputs": [
    {
     "name": "stdout",
     "output_type": "stream",
     "text": [
      "deg_malig      0.053379\n",
      "inv_nodes      0.047824\n",
      "tumor_size     0.039628\n",
      "node_caps      0.037030\n",
      "irradiat       0.017896\n",
      "breast_quad    0.010443\n",
      "age            0.007351\n",
      "breast         0.001725\n",
      "menopause      0.001387\n",
      "Name: miscore, dtype: float64\n"
     ]
    }
   ],
   "source": [
    "miscore = mutual_info_classif(X_t, y_t, discrete_features=[True, True, True, True,True, True, True, True,True])\n",
    "miscore = pd.Series(data=miscore, index=X.columns, name=\"miscore\")\n",
    "miscore = miscore.sort_values(ascending=False)\n",
    "print(miscore)"
   ]
  },
  {
   "cell_type": "code",
   "execution_count": 149,
   "metadata": {},
   "outputs": [
    {
     "data": {
      "image/png": "[encoded data removed]",
      "text/plain": [
       "<Figure size 800x500 with 1 Axes>"
      ]
     },
     "metadata": {},
     "output_type": "display_data"
    }
   ],
   "source": [
    "import matplotlib.pyplot as plt\n",
    "import seaborn as sns\n",
    "import numpy as np\n",
    "\n",
    "plt.style.use(\"seaborn-whitegrid\")\n",
    "\n",
    "def plot_mi_scores(scores):\n",
    "    scores = scores.sort_values(ascending=True)\n",
    "    width = np.arange(len(scores))\n",
    "    ticks = list(scores.index)\n",
    "    plt.barh(width, scores)\n",
    "    plt.yticks(width, ticks)\n",
    "    plt.title(\"Mutual Information Scores\")\n",
    "\n",
    "\n",
    "plt.figure(dpi=100, figsize=(8, 5))\n",
    "plot_mi_scores(miscore)"
   ]
  },
  {
   "cell_type": "code",
   "execution_count": null,
   "metadata": {},
   "outputs": [],
   "source": []
  }
 ],
 "metadata": {
  "kernelspec": {
   "display_name": "Python 3",
   "language": "python",
   "name": "python3"
  },
  "language_info": {
   "codemirror_mode": {
    "name": "ipython",
    "version": 3
   },
   "file_extension": ".py",
   "mimetype": "text/x-python",
   "name": "python",
   "nbconvert_exporter": "python",
   "pygments_lexer": "ipython3",
   "version": "3.8.3"
  }
 },
 "nbformat": 4,
 "nbformat_minor": 4
}
