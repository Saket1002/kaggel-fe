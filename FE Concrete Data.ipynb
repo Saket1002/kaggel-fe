{
 "cells": [
  {
   "cell_type": "code",
   "execution_count": 38,
   "metadata": {},
   "outputs": [],
   "source": [
    "import pandas as pd\n",
    "from sklearn.ensemble import RandomForestRegressor\n",
    "from sklearn.model_selection import cross_val_score\n",
    "\n",
    "df = pd.read_csv(\"concrete.csv\")"
   ]
  },
  {
   "cell_type": "code",
   "execution_count": 39,
   "metadata": {},
   "outputs": [
    {
     "data": {
      "text/html": [
       "<div>\n",
       "<style scoped>\n",
       "    .dataframe tbody tr th:only-of-type {\n",
       "        vertical-align: middle;\n",
       "    }\n",
       "\n",
       "    .dataframe tbody tr th {\n",
       "        vertical-align: top;\n",
       "    }\n",
       "\n",
       "    .dataframe thead th {\n",
       "        text-align: right;\n",
       "    }\n",
       "</style>\n",
       "<table border=\"1\" class=\"dataframe\">\n",
       "  <thead>\n",
       "    <tr style=\"text-align: right;\">\n",
       "      <th></th>\n",
       "      <th>Cement</th>\n",
       "      <th>BlastFurnaceSlag</th>\n",
       "      <th>FlyAsh</th>\n",
       "      <th>Water</th>\n",
       "      <th>Superplasticizer</th>\n",
       "      <th>CoarseAgg</th>\n",
       "      <th>FineAgg</th>\n",
       "      <th>Age</th>\n",
       "      <th>CompressiveStrength</th>\n",
       "    </tr>\n",
       "  </thead>\n",
       "  <tbody>\n",
       "    <tr>\n",
       "      <th>0</th>\n",
       "      <td>540.0</td>\n",
       "      <td>0.0</td>\n",
       "      <td>0.0</td>\n",
       "      <td>162.0</td>\n",
       "      <td>2.5</td>\n",
       "      <td>1040.0</td>\n",
       "      <td>676.0</td>\n",
       "      <td>28</td>\n",
       "      <td>79.99</td>\n",
       "    </tr>\n",
       "    <tr>\n",
       "      <th>1</th>\n",
       "      <td>540.0</td>\n",
       "      <td>0.0</td>\n",
       "      <td>0.0</td>\n",
       "      <td>162.0</td>\n",
       "      <td>2.5</td>\n",
       "      <td>1055.0</td>\n",
       "      <td>676.0</td>\n",
       "      <td>28</td>\n",
       "      <td>61.89</td>\n",
       "    </tr>\n",
       "    <tr>\n",
       "      <th>2</th>\n",
       "      <td>332.5</td>\n",
       "      <td>142.5</td>\n",
       "      <td>0.0</td>\n",
       "      <td>228.0</td>\n",
       "      <td>0.0</td>\n",
       "      <td>932.0</td>\n",
       "      <td>594.0</td>\n",
       "      <td>270</td>\n",
       "      <td>40.27</td>\n",
       "    </tr>\n",
       "    <tr>\n",
       "      <th>3</th>\n",
       "      <td>332.5</td>\n",
       "      <td>142.5</td>\n",
       "      <td>0.0</td>\n",
       "      <td>228.0</td>\n",
       "      <td>0.0</td>\n",
       "      <td>932.0</td>\n",
       "      <td>594.0</td>\n",
       "      <td>365</td>\n",
       "      <td>41.05</td>\n",
       "    </tr>\n",
       "    <tr>\n",
       "      <th>4</th>\n",
       "      <td>198.6</td>\n",
       "      <td>132.4</td>\n",
       "      <td>0.0</td>\n",
       "      <td>192.0</td>\n",
       "      <td>0.0</td>\n",
       "      <td>978.4</td>\n",
       "      <td>825.5</td>\n",
       "      <td>360</td>\n",
       "      <td>44.30</td>\n",
       "    </tr>\n",
       "  </tbody>\n",
       "</table>\n",
       "</div>"
      ],
      "text/plain": [
       "   Cement  BlastFurnaceSlag  FlyAsh  Water  Superplasticizer  CoarseAgg  \\\n",
       "0   540.0               0.0     0.0  162.0               2.5     1040.0   \n",
       "1   540.0               0.0     0.0  162.0               2.5     1055.0   \n",
       "2   332.5             142.5     0.0  228.0               0.0      932.0   \n",
       "3   332.5             142.5     0.0  228.0               0.0      932.0   \n",
       "4   198.6             132.4     0.0  192.0               0.0      978.4   \n",
       "\n",
       "   FineAgg  Age  CompressiveStrength  \n",
       "0    676.0   28                79.99  \n",
       "1    676.0   28                61.89  \n",
       "2    594.0  270                40.27  \n",
       "3    594.0  365                41.05  \n",
       "4    825.5  360                44.30  "
      ]
     },
     "execution_count": 39,
     "metadata": {},
     "output_type": "execute_result"
    }
   ],
   "source": [
    "#debug\n",
    "df.head()"
   ]
  },
  {
   "cell_type": "code",
   "execution_count": 40,
   "metadata": {},
   "outputs": [],
   "source": [
    "def score (X, y):\n",
    "    regressor = RandomForestRegressor(criterion=\"mae\", random_state=0)\n",
    "    return cross_val_score(regressor, X, y, cv=5, scoring=\"neg_mean_absolute_error\")\n"
   ]
  },
  {
   "cell_type": "code",
   "execution_count": 41,
   "metadata": {},
   "outputs": [
    {
     "name": "stdout",
     "output_type": "stream",
     "text": [
      "Baseline score [ -8.02122015  -6.52776359  -6.04393422  -4.20137451 -16.3644165 ]\n",
      "Mean baseline score -8.231741796116504\n"
     ]
    }
   ],
   "source": [
    "# basline\n",
    "\n",
    "X = df.copy()\n",
    "y = X.pop(\"CompressiveStrength\")\n",
    "\n",
    "baseline_score = score(X,y)\n",
    "print(\"Baseline score\" , baseline_score)\n",
    "print(\"Mean baseline score\", baseline_score.mean())"
   ]
  },
  {
   "cell_type": "code",
   "execution_count": 42,
   "metadata": {},
   "outputs": [
    {
     "name": "stdout",
     "output_type": "stream",
     "text": [
      "FE_1 Score [ -7.97473786  -6.70517233  -6.02315073  -4.29295995 -14.60463811]\n",
      "Mean FE_1 Score -7.920131796116503\n"
     ]
    }
   ],
   "source": [
    "def expe1(X, y):\n",
    "    label = \"FE_1\"\n",
    "    X2 = X.copy() # copay of base feature\n",
    "\n",
    "    # Create synthetic features\n",
    "    X2[\"FCRatio\"] = X2[\"FineAgg\"] / X2[\"CoarseAgg\"]\n",
    "    X2[\"AggCmtRatio\"] = (X2[\"CoarseAgg\"] + X2[\"FineAgg\"]) / X2[\"Cement\"]\n",
    "    X2[\"WtrCmtRatio\"] =  X2[\"Cement\"]/X2[\"Water\"] \n",
    "\n",
    "\n",
    "\n",
    "    fscore = score(X2,y)\n",
    "    print(label, \"Score\" , fscore)\n",
    "    print(\"Mean\", label, \"Score\", fscore.mean())\n",
    "    \n",
    "expe1(X, y)"
   ]
  },
  {
   "cell_type": "code",
   "execution_count": 45,
   "metadata": {},
   "outputs": [
    {
     "name": "stdout",
     "output_type": "stream",
     "text": [
      "FE_2 Score [ -8.28627015  -6.924475    -5.79923495  -4.24062573 -14.22870777]\n",
      "Mean FE_2 Score -7.895862718446599\n"
     ]
    }
   ],
   "source": [
    "def expe2(X, y):\n",
    "    label = \"FE_2\"\n",
    "    X2 = X.copy() # copay of base feature\n",
    "\n",
    "    # Create synthetic features\n",
    "    X2[\"FCRatio\"] = X2[\"FineAgg\"] / X2[\"CoarseAgg\"]\n",
    "    X2[\"AggCmtRatio\"] = (X2[\"CoarseAgg\"] + X2[\"FineAgg\"]) / X2[\"Cement\"]\n",
    "    X2[\"WaterToCement\"] =  X2[\"Water\"]/X2[\"Cement\"] \n",
    "    \n",
    "    X2.pop(\"FineAgg\")\n",
    "    X2.pop(\"CoarseAgg\")\n",
    "    X2.pop(\"Water\")\n",
    "    \n",
    "    fscore = score(X2,y)\n",
    "    print(label, \"Score\" , fscore)\n",
    "    print(\"Mean\", label, \"Score\", fscore.mean())\n",
    "    \n",
    "expe2(X, y)"
   ]
  },
  {
   "cell_type": "code",
   "execution_count": null,
   "metadata": {},
   "outputs": [],
   "source": []
  }
 ],
 "metadata": {
  "kernelspec": {
   "display_name": "Python 3",
   "language": "python",
   "name": "python3"
  },
  "language_info": {
   "codemirror_mode": {
    "name": "ipython",
    "version": 3
   },
   "file_extension": ".py",
   "mimetype": "text/x-python",
   "name": "python",
   "nbconvert_exporter": "python",
   "pygments_lexer": "ipython3",
   "version": "3.8.3"
  }
 },
 "nbformat": 4,
 "nbformat_minor": 4
}
