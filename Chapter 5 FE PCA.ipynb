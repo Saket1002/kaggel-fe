{
 "cells": [
  {
   "cell_type": "markdown",
   "metadata": {},
   "source": [
    "https://www.kaggle.com/ryanholbrook/principal-component-analysis\n",
    "\n",
    "PCA - Principal Component Analysis is a great tool to discover important relationship in the data and can also be used to create more informative features. \n",
    "\n",
    "Note : Chapeter 1,2 talk abt different way to combine (addition, subtraction, ratio, multiplication etc) PCA can help to discover what combination might result into a good feature.\n",
    "\n",
    "Note : PCA Best Practises\n",
    "\n",
    "1. PCA only works with neumerical features, like continues quantities or counts.\n",
    "2. PCA is sensitive to scale its good practise to standardize the data before PCA.\n",
    "3. Consider removing or constraining outliers before PCA since they can have undue influence on the result.\n",
    "\n",
    "\n",
    "### Whole idea of PCA is to describe the data with its axes of variannce instead of original features. \n",
    "\n",
    "\n",
    "![title](https://i.imgur.com/rr8NCDy.png)\n",
    "![title](https://i.imgur.com/XQlRD1q.png)\n",
    "\n",
    "\n",
    "#### NOTES\n",
    "\n",
    "    > New features, PCA, are just weighted average of original features.\n",
    "    > Number of PCA are equal to number of features. - > PCA by itself doesn't reduce the dimention of data but captures the variance differently and helps to identify the relationship of features. \n",
    "    > New features are called Principal Component and weights are called loading.\n",
    "    \n",
    "    \n",
    "PC captures different amount of \"percentage of explained variance\" totoal 100%. In above picture we can see PC1, Size captures more variance than PC2, shape.\n",
    "\n",
    "It's important to remember, however, that the amount of variance in a component doesn't necessarily correspond to how good it is as a predictor: it depends on what you're trying to predict.\n",
    "    \n",
    "\n"
   ]
  },
  {
   "cell_type": "code",
   "execution_count": 1,
   "metadata": {},
   "outputs": [],
   "source": [
    "import pandas as pd\n",
    "import matplotlib.pyplot as plt\n",
    "import numpy as np\n",
    "import pandas as pd\n",
    "import seaborn as sns\n",
    "\n",
    "df = pd.read_csv(\"./data/abalone.csv\")\n",
    "features = ['Diameter', 'Height']\n",
    "X = df.loc[:, features]"
   ]
  },
  {
   "cell_type": "code",
   "execution_count": 2,
   "metadata": {},
   "outputs": [],
   "source": [
    "X_scaled = (X - X.mean(axis=0)) / X.std(axis=0)"
   ]
  },
  {
   "cell_type": "code",
   "execution_count": 3,
   "metadata": {},
   "outputs": [
    {
     "data": {
      "text/html": [
       "<div>\n",
       "<style scoped>\n",
       "    .dataframe tbody tr th:only-of-type {\n",
       "        vertical-align: middle;\n",
       "    }\n",
       "\n",
       "    .dataframe tbody tr th {\n",
       "        vertical-align: top;\n",
       "    }\n",
       "\n",
       "    .dataframe thead th {\n",
       "        text-align: right;\n",
       "    }\n",
       "</style>\n",
       "<table border=\"1\" class=\"dataframe\">\n",
       "  <thead>\n",
       "    <tr style=\"text-align: right;\">\n",
       "      <th></th>\n",
       "      <th>Diameter</th>\n",
       "      <th>Height</th>\n",
       "    </tr>\n",
       "  </thead>\n",
       "  <tbody>\n",
       "    <tr>\n",
       "      <th>3996</th>\n",
       "      <td>-1.792437</td>\n",
       "      <td>-3.335554</td>\n",
       "    </tr>\n",
       "    <tr>\n",
       "      <th>1257</th>\n",
       "      <td>-0.684012</td>\n",
       "      <td>-3.335554</td>\n",
       "    </tr>\n",
       "    <tr>\n",
       "      <th>236</th>\n",
       "      <td>-3.555842</td>\n",
       "      <td>-3.096474</td>\n",
       "    </tr>\n",
       "    <tr>\n",
       "      <th>2169</th>\n",
       "      <td>-2.951246</td>\n",
       "      <td>-2.976934</td>\n",
       "    </tr>\n",
       "    <tr>\n",
       "      <th>1174</th>\n",
       "      <td>0.877860</td>\n",
       "      <td>-2.976934</td>\n",
       "    </tr>\n",
       "    <tr>\n",
       "      <th>...</th>\n",
       "      <td>...</td>\n",
       "      <td>...</td>\n",
       "    </tr>\n",
       "    <tr>\n",
       "      <th>1763</th>\n",
       "      <td>2.238201</td>\n",
       "      <td>2.641439</td>\n",
       "    </tr>\n",
       "    <tr>\n",
       "      <th>1428</th>\n",
       "      <td>2.439733</td>\n",
       "      <td>2.641439</td>\n",
       "    </tr>\n",
       "    <tr>\n",
       "      <th>2179</th>\n",
       "      <td>0.625945</td>\n",
       "      <td>2.641439</td>\n",
       "    </tr>\n",
       "    <tr>\n",
       "      <th>1417</th>\n",
       "      <td>1.583222</td>\n",
       "      <td>8.977051</td>\n",
       "    </tr>\n",
       "    <tr>\n",
       "      <th>2051</th>\n",
       "      <td>-0.532863</td>\n",
       "      <td>23.680452</td>\n",
       "    </tr>\n",
       "  </tbody>\n",
       "</table>\n",
       "<p>4177 rows × 2 columns</p>\n",
       "</div>"
      ],
      "text/plain": [
       "      Diameter     Height\n",
       "3996 -1.792437  -3.335554\n",
       "1257 -0.684012  -3.335554\n",
       "236  -3.555842  -3.096474\n",
       "2169 -2.951246  -2.976934\n",
       "1174  0.877860  -2.976934\n",
       "...        ...        ...\n",
       "1763  2.238201   2.641439\n",
       "1428  2.439733   2.641439\n",
       "2179  0.625945   2.641439\n",
       "1417  1.583222   8.977051\n",
       "2051 -0.532863  23.680452\n",
       "\n",
       "[4177 rows x 2 columns]"
      ]
     },
     "execution_count": 3,
     "metadata": {},
     "output_type": "execute_result"
    }
   ],
   "source": [
    "# hand removing the outlier , this is dirty there has to be a better way\n",
    "\n",
    "X_scaled.sort_values(('Height'))\n"
   ]
  },
  {
   "cell_type": "code",
   "execution_count": 4,
   "metadata": {},
   "outputs": [],
   "source": [
    "# hand removing the outlier , this is dirty there has to be a better way\n",
    "\n",
    "X_scaled = X_scaled.drop([1417, 2051])"
   ]
  },
  {
   "cell_type": "code",
   "execution_count": 5,
   "metadata": {},
   "outputs": [
    {
     "data": {
      "image/png": "[encoded data removed]",
      "text/plain": [
       "<Figure size 288x288 with 1 Axes>"
      ]
     },
     "metadata": {
      "needs_background": "light"
     },
     "output_type": "display_data"
    }
   ],
   "source": [
    "sns.lmplot(x=\"Height\", y=\"Diameter\",  height=4, aspect=1, data=X_scaled);"
   ]
  },
  {
   "cell_type": "code",
   "execution_count": 6,
   "metadata": {},
   "outputs": [
    {
     "name": "stdout",
     "output_type": "stream",
     "text": [
      "   Diameter    Height\n",
      "0 -0.432097 -1.064297\n",
      "1 -1.439757 -1.183837\n",
      "2  0.122116 -0.107978\n",
      "3 -0.432097 -0.347058\n",
      "4 -1.540523 -1.422916\n",
      "[[ 1.03109262  0.48936391]\n",
      " [ 1.85603893 -0.1015093 ]\n",
      " [-0.02288804  0.15646428]\n",
      " [ 0.5476616  -0.04047225]\n",
      " [ 2.09162006  0.00718482]]\n"
     ]
    }
   ],
   "source": [
    "from sklearn.decomposition import PCA\n",
    "pca = PCA()\n",
    "X_pca = pca.fit_transform(X_scaled)\n",
    "print(X_scaled[0:5])\n",
    "print(X_pca[0:5])\n"
   ]
  },
  {
   "cell_type": "code",
   "execution_count": 7,
   "metadata": {},
   "outputs": [
    {
     "data": {
      "text/html": [
       "<div>\n",
       "<style scoped>\n",
       "    .dataframe tbody tr th:only-of-type {\n",
       "        vertical-align: middle;\n",
       "    }\n",
       "\n",
       "    .dataframe tbody tr th {\n",
       "        vertical-align: top;\n",
       "    }\n",
       "\n",
       "    .dataframe thead th {\n",
       "        text-align: right;\n",
       "    }\n",
       "</style>\n",
       "<table border=\"1\" class=\"dataframe\">\n",
       "  <thead>\n",
       "    <tr style=\"text-align: right;\">\n",
       "      <th></th>\n",
       "      <th>PC1</th>\n",
       "      <th>PC2</th>\n",
       "    </tr>\n",
       "  </thead>\n",
       "  <tbody>\n",
       "    <tr>\n",
       "      <th>0</th>\n",
       "      <td>1.031093</td>\n",
       "      <td>0.489364</td>\n",
       "    </tr>\n",
       "    <tr>\n",
       "      <th>1</th>\n",
       "      <td>1.856039</td>\n",
       "      <td>-0.101509</td>\n",
       "    </tr>\n",
       "    <tr>\n",
       "      <th>2</th>\n",
       "      <td>-0.022888</td>\n",
       "      <td>0.156464</td>\n",
       "    </tr>\n",
       "    <tr>\n",
       "      <th>3</th>\n",
       "      <td>0.547662</td>\n",
       "      <td>-0.040472</td>\n",
       "    </tr>\n",
       "    <tr>\n",
       "      <th>4</th>\n",
       "      <td>2.091620</td>\n",
       "      <td>0.007185</td>\n",
       "    </tr>\n",
       "  </tbody>\n",
       "</table>\n",
       "</div>"
      ],
      "text/plain": [
       "        PC1       PC2\n",
       "0  1.031093  0.489364\n",
       "1  1.856039 -0.101509\n",
       "2 -0.022888  0.156464\n",
       "3  0.547662 -0.040472\n",
       "4  2.091620  0.007185"
      ]
     },
     "execution_count": 7,
     "metadata": {},
     "output_type": "execute_result"
    }
   ],
   "source": [
    "# PC data frame creation from above 2D metrics \n",
    "comp_names = [f\"PC{i+1}\" for i in range(X_pca.shape[1])]\n",
    "X_pca = pd.DataFrame(X_pca, columns = comp_names, index=X_scaled.index)\n",
    "X_pca[0:5]"
   ]
  },
  {
   "cell_type": "code",
   "execution_count": 8,
   "metadata": {},
   "outputs": [
    {
     "data": {
      "image/png": "[encoded data removed]",
      "text/plain": [
       "<Figure size 288x288 with 1 Axes>"
      ]
     },
     "metadata": {
      "needs_background": "light"
     },
     "output_type": "display_data"
    }
   ],
   "source": [
    "sns.lmplot(x=X_pca.columns[0], y=X_pca.columns[1],  height=4, aspect=1, data=X_pca);"
   ]
  },
  {
   "cell_type": "code",
   "execution_count": 9,
   "metadata": {},
   "outputs": [
    {
     "data": {
      "text/plain": [
       "array([[-0.73871623, -0.67401656],\n",
       "       [ 0.67401656, -0.73871623]])"
      ]
     },
     "execution_count": 9,
     "metadata": {},
     "output_type": "execute_result"
    }
   ],
   "source": [
    "pca.components_"
   ]
  },
  {
   "cell_type": "code",
   "execution_count": 10,
   "metadata": {},
   "outputs": [
    {
     "data": {
      "text/html": [
       "<div>\n",
       "<style scoped>\n",
       "    .dataframe tbody tr th:only-of-type {\n",
       "        vertical-align: middle;\n",
       "    }\n",
       "\n",
       "    .dataframe tbody tr th {\n",
       "        vertical-align: top;\n",
       "    }\n",
       "\n",
       "    .dataframe thead th {\n",
       "        text-align: right;\n",
       "    }\n",
       "</style>\n",
       "<table border=\"1\" class=\"dataframe\">\n",
       "  <thead>\n",
       "    <tr style=\"text-align: right;\">\n",
       "      <th></th>\n",
       "      <th>PC1</th>\n",
       "      <th>PC2</th>\n",
       "    </tr>\n",
       "  </thead>\n",
       "  <tbody>\n",
       "    <tr>\n",
       "      <th>Diameter</th>\n",
       "      <td>-0.738716</td>\n",
       "      <td>0.674017</td>\n",
       "    </tr>\n",
       "    <tr>\n",
       "      <th>Height</th>\n",
       "      <td>-0.674017</td>\n",
       "      <td>-0.738716</td>\n",
       "    </tr>\n",
       "  </tbody>\n",
       "</table>\n",
       "</div>"
      ],
      "text/plain": [
       "               PC1       PC2\n",
       "Diameter -0.738716  0.674017\n",
       "Height   -0.674017 -0.738716"
      ]
     },
     "execution_count": 10,
     "metadata": {},
     "output_type": "execute_result"
    }
   ],
   "source": [
    "pd.DataFrame(pca.components_.T, columns=comp_names, index=X_scaled.columns )"
   ]
  },
  {
   "cell_type": "markdown",
   "metadata": {},
   "source": [
    "# note : sum of weights*dimension != PC in this case why ?"
   ]
  },
  {
   "cell_type": "markdown",
   "metadata": {},
   "source": [
    "There are two ways to use PCA in feature engineering.\n",
    "\n",
    "\n",
    "1. As a descriptice technique. - Identify how to combine features to create new features.\n",
    "\n",
    "2. PC themselfs as features. \n",
    "\n",
    "\n",
    "\n",
    "PCA for anomoly deduction: Unusual variation, not apperent in the original data will often show up in the low variance components. The component can be highly informative in anomaly or outlier deduction. \n",
    "\n",
    "principal components are uncorrelated components, hence can be used as features with the Algo which normally struggel with highly correlated features. \n",
    "\n",
    "\n",
    "## Problem with PCA\n",
    "\n",
    "PC normally have no direct lelation with the realworld concept (what is PC5 in real world witch is some random weighted average of features), hence using PC as feature makes model even more unexplanable.\n",
    "\n",
    "\n"
   ]
  },
  {
   "cell_type": "markdown",
   "metadata": {},
   "source": [
    "# -----------------------------------------------------------------------------------\n",
    "## Using PCA as descriptive technique to discover features.\n",
    "\n",
    "\n",
    "\n",
    "# -----------------------------------------------------------------------------------"
   ]
  },
  {
   "cell_type": "code",
   "execution_count": 11,
   "metadata": {},
   "outputs": [],
   "source": [
    "import matplotlib.pyplot as plt\n",
    "import numpy as np\n",
    "import pandas as pd\n",
    "import seaborn as sns\n",
    "from IPython.display import display\n",
    "from sklearn.feature_selection import mutual_info_regression\n",
    "\n",
    "# setting up plot properties and helper functions\n",
    "\n",
    "plt.style.use(\"seaborn-whitegrid\")\n",
    "plt.rc(\"figure\", autolayout=True)\n",
    "plt.rc(\n",
    "    \"axes\",\n",
    "    labelweight=\"bold\",\n",
    "    labelsize=\"large\",\n",
    "    titleweight=\"bold\",\n",
    "    titlesize=14,\n",
    "    titlepad=10,\n",
    ")\n",
    "\n",
    "\n",
    "def plot_variance(pca, width=8, dpi=100):\n",
    "    # Create figure\n",
    "    fig, axs = plt.subplots(1, 2)\n",
    "    n = pca.n_components_\n",
    "    grid = np.arange(1, n + 1)\n",
    "    # Explained variance\n",
    "    evr = pca.explained_variance_ratio_\n",
    "    axs[0].bar(grid, evr)\n",
    "    axs[0].set(\n",
    "        xlabel=\"Component\", title=\"% Explained Variance\", ylim=(0.0, 1.0)\n",
    "    )\n",
    "    # Cumulative Variance\n",
    "    cv = np.cumsum(evr)\n",
    "    axs[1].plot(np.r_[0, grid], np.r_[0, cv], \"o-\")\n",
    "    axs[1].set(\n",
    "        xlabel=\"Component\", title=\"% Cumulative Variance\", ylim=(0.0, 1.0)\n",
    "    )\n",
    "    # Set up figure\n",
    "    fig.set(figwidth=8, dpi=100)\n",
    "    return axs\n",
    "\n",
    "def make_mi_scores(X, y, discrete_features):\n",
    "    mi_scores = mutual_info_regression(X, y, discrete_features=discrete_features)\n",
    "    mi_scores = pd.Series(mi_scores, name=\"MI Scores\", index=X.columns)\n",
    "    mi_scores = mi_scores.sort_values(ascending=False)\n",
    "    return mi_scores\n",
    "\n",
    "\n"
   ]
  },
  {
   "cell_type": "code",
   "execution_count": 12,
   "metadata": {},
   "outputs": [],
   "source": [
    "df = pd.read_csv(\"./data/auto.csv\")\n",
    "\n",
    "# features for PCA\n",
    "features = [\"highway-mpg\", \"engine-size\", \"horsepower\", \"curb-weight\"]\n",
    "\n",
    "X = df.loc[:, features]\n",
    "y = df.loc[:, 'price']\n",
    "\n",
    "# Standardize\n",
    "X_scaled = (X - X.mean(axis=0)) / X.std(axis=0)"
   ]
  },
  {
   "cell_type": "code",
   "execution_count": 13,
   "metadata": {},
   "outputs": [],
   "source": [
    "from sklearn.decomposition import PCA\n",
    "\n",
    "# Create principal components\n",
    "pca = PCA()\n",
    "X_pca = pca.fit_transform(X_scaled)"
   ]
  },
  {
   "cell_type": "code",
   "execution_count": 15,
   "metadata": {},
   "outputs": [
    {
     "data": {
      "text/html": [
       "<div>\n",
       "<style scoped>\n",
       "    .dataframe tbody tr th:only-of-type {\n",
       "        vertical-align: middle;\n",
       "    }\n",
       "\n",
       "    .dataframe tbody tr th {\n",
       "        vertical-align: top;\n",
       "    }\n",
       "\n",
       "    .dataframe thead th {\n",
       "        text-align: right;\n",
       "    }\n",
       "</style>\n",
       "<table border=\"1\" class=\"dataframe\">\n",
       "  <thead>\n",
       "    <tr style=\"text-align: right;\">\n",
       "      <th></th>\n",
       "      <th>PC1</th>\n",
       "      <th>PC2</th>\n",
       "      <th>PC3</th>\n",
       "      <th>PC4</th>\n",
       "    </tr>\n",
       "  </thead>\n",
       "  <tbody>\n",
       "    <tr>\n",
       "      <th>0</th>\n",
       "      <td>-0.041303</td>\n",
       "      <td>-0.561500</td>\n",
       "      <td>-0.078411</td>\n",
       "      <td>0.007346</td>\n",
       "    </tr>\n",
       "    <tr>\n",
       "      <th>1</th>\n",
       "      <td>1.733207</td>\n",
       "      <td>-0.641945</td>\n",
       "      <td>0.483000</td>\n",
       "      <td>-0.214762</td>\n",
       "    </tr>\n",
       "    <tr>\n",
       "      <th>2</th>\n",
       "      <td>1.446140</td>\n",
       "      <td>-0.267026</td>\n",
       "      <td>0.423689</td>\n",
       "      <td>-0.082684</td>\n",
       "    </tr>\n",
       "    <tr>\n",
       "      <th>3</th>\n",
       "      <td>2.487529</td>\n",
       "      <td>-0.981942</td>\n",
       "      <td>0.304724</td>\n",
       "      <td>0.388818</td>\n",
       "    </tr>\n",
       "    <tr>\n",
       "      <th>4</th>\n",
       "      <td>0.062568</td>\n",
       "      <td>-0.632038</td>\n",
       "      <td>0.076447</td>\n",
       "      <td>0.036389</td>\n",
       "    </tr>\n",
       "  </tbody>\n",
       "</table>\n",
       "</div>"
      ],
      "text/plain": [
       "        PC1       PC2       PC3       PC4\n",
       "0 -0.041303 -0.561500 -0.078411  0.007346\n",
       "1  1.733207 -0.641945  0.483000 -0.214762\n",
       "2  1.446140 -0.267026  0.423689 -0.082684\n",
       "3  2.487529 -0.981942  0.304724  0.388818\n",
       "4  0.062568 -0.632038  0.076447  0.036389"
      ]
     },
     "execution_count": 15,
     "metadata": {},
     "output_type": "execute_result"
    }
   ],
   "source": [
    "component_names = [f\"PC{i+1}\" for i in range(X_pca.shape[1])]\n",
    "\n",
    "X_pca = pd.DataFrame(data=X_pca, columns=component_names, index = X_scaled.index )\n",
    "X_pca.head()\n"
   ]
  },
  {
   "cell_type": "code",
   "execution_count": 16,
   "metadata": {},
   "outputs": [
    {
     "data": {
      "text/html": [
       "<div>\n",
       "<style scoped>\n",
       "    .dataframe tbody tr th:only-of-type {\n",
       "        vertical-align: middle;\n",
       "    }\n",
       "\n",
       "    .dataframe tbody tr th {\n",
       "        vertical-align: top;\n",
       "    }\n",
       "\n",
       "    .dataframe thead th {\n",
       "        text-align: right;\n",
       "    }\n",
       "</style>\n",
       "<table border=\"1\" class=\"dataframe\">\n",
       "  <thead>\n",
       "    <tr style=\"text-align: right;\">\n",
       "      <th></th>\n",
       "      <th>PC1</th>\n",
       "      <th>PC2</th>\n",
       "      <th>PC3</th>\n",
       "      <th>PC4</th>\n",
       "    </tr>\n",
       "  </thead>\n",
       "  <tbody>\n",
       "    <tr>\n",
       "      <th>highway-mpg</th>\n",
       "      <td>-0.487377</td>\n",
       "      <td>0.674586</td>\n",
       "      <td>-0.430971</td>\n",
       "      <td>0.348800</td>\n",
       "    </tr>\n",
       "    <tr>\n",
       "      <th>engine-size</th>\n",
       "      <td>0.500984</td>\n",
       "      <td>0.576444</td>\n",
       "      <td>-0.168591</td>\n",
       "      <td>-0.623140</td>\n",
       "    </tr>\n",
       "    <tr>\n",
       "      <th>horsepower</th>\n",
       "      <td>0.502647</td>\n",
       "      <td>-0.286315</td>\n",
       "      <td>-0.741524</td>\n",
       "      <td>0.339872</td>\n",
       "    </tr>\n",
       "    <tr>\n",
       "      <th>curb-weight</th>\n",
       "      <td>0.508748</td>\n",
       "      <td>0.361482</td>\n",
       "      <td>0.485782</td>\n",
       "      <td>0.611982</td>\n",
       "    </tr>\n",
       "  </tbody>\n",
       "</table>\n",
       "</div>"
      ],
      "text/plain": [
       "                  PC1       PC2       PC3       PC4\n",
       "highway-mpg -0.487377  0.674586 -0.430971  0.348800\n",
       "engine-size  0.500984  0.576444 -0.168591 -0.623140\n",
       "horsepower   0.502647 -0.286315 -0.741524  0.339872\n",
       "curb-weight  0.508748  0.361482  0.485782  0.611982"
      ]
     },
     "execution_count": 16,
     "metadata": {},
     "output_type": "execute_result"
    }
   ],
   "source": [
    "loadings = pd.DataFrame(\n",
    "    pca.components_.T,  # transpose the matrix of loadings\n",
    "    columns=component_names,  # so the columns are the principal components\n",
    "    index=X.columns,  # and the rows are the original features\n",
    ")\n",
    "loadings"
   ]
  },
  {
   "cell_type": "code",
   "execution_count": 17,
   "metadata": {},
   "outputs": [
    {
     "data": {
      "image/png": "[encoded data removed]",
      "text/plain": [
       "<Figure size 800x400 with 2 Axes>"
      ]
     },
     "metadata": {},
     "output_type": "display_data"
    }
   ],
   "source": [
    "# Look at explained variance\n",
    "plot_variance(pca);"
   ]
  },
  {
   "cell_type": "code",
   "execution_count": 18,
   "metadata": {},
   "outputs": [
    {
     "data": {
      "text/plain": [
       "PC1    1.014759\n",
       "PC2    0.221472\n",
       "PC3    0.186363\n",
       "PC4    0.163194\n",
       "Name: MI Scores, dtype: float64"
      ]
     },
     "execution_count": 18,
     "metadata": {},
     "output_type": "execute_result"
    }
   ],
   "source": [
    "mi_scores = make_mi_scores(X_pca, y, discrete_features=False)\n",
    "mi_scores"
   ]
  },
  {
   "cell_type": "code",
   "execution_count": 19,
   "metadata": {},
   "outputs": [
    {
     "data": {
      "text/html": [
       "<div>\n",
       "<style scoped>\n",
       "    .dataframe tbody tr th:only-of-type {\n",
       "        vertical-align: middle;\n",
       "    }\n",
       "\n",
       "    .dataframe tbody tr th {\n",
       "        vertical-align: top;\n",
       "    }\n",
       "\n",
       "    .dataframe thead th {\n",
       "        text-align: right;\n",
       "    }\n",
       "</style>\n",
       "<table border=\"1\" class=\"dataframe\">\n",
       "  <thead>\n",
       "    <tr style=\"text-align: right;\">\n",
       "      <th></th>\n",
       "      <th>make</th>\n",
       "      <th>body-style</th>\n",
       "      <th>horsepower</th>\n",
       "      <th>curb-weight</th>\n",
       "      <th>engine-size</th>\n",
       "      <th>highway-mpg</th>\n",
       "    </tr>\n",
       "  </thead>\n",
       "  <tbody>\n",
       "    <tr>\n",
       "      <th>114</th>\n",
       "      <td>toyota</td>\n",
       "      <td>wagon</td>\n",
       "      <td>62</td>\n",
       "      <td>3110</td>\n",
       "      <td>92</td>\n",
       "      <td>32</td>\n",
       "    </tr>\n",
       "    <tr>\n",
       "      <th>79</th>\n",
       "      <td>peugot</td>\n",
       "      <td>sedan</td>\n",
       "      <td>95</td>\n",
       "      <td>3075</td>\n",
       "      <td>120</td>\n",
       "      <td>24</td>\n",
       "    </tr>\n",
       "    <tr>\n",
       "      <th>81</th>\n",
       "      <td>peugot</td>\n",
       "      <td>sedan</td>\n",
       "      <td>97</td>\n",
       "      <td>3075</td>\n",
       "      <td>120</td>\n",
       "      <td>24</td>\n",
       "    </tr>\n",
       "    <tr>\n",
       "      <th>77</th>\n",
       "      <td>peugot</td>\n",
       "      <td>sedan</td>\n",
       "      <td>97</td>\n",
       "      <td>3020</td>\n",
       "      <td>120</td>\n",
       "      <td>24</td>\n",
       "    </tr>\n",
       "    <tr>\n",
       "      <th>113</th>\n",
       "      <td>toyota</td>\n",
       "      <td>wagon</td>\n",
       "      <td>62</td>\n",
       "      <td>2290</td>\n",
       "      <td>92</td>\n",
       "      <td>32</td>\n",
       "    </tr>\n",
       "    <tr>\n",
       "      <th>...</th>\n",
       "      <td>...</td>\n",
       "      <td>...</td>\n",
       "      <td>...</td>\n",
       "      <td>...</td>\n",
       "      <td>...</td>\n",
       "      <td>...</td>\n",
       "    </tr>\n",
       "    <tr>\n",
       "      <th>95</th>\n",
       "      <td>saab</td>\n",
       "      <td>hatchback</td>\n",
       "      <td>160</td>\n",
       "      <td>2808</td>\n",
       "      <td>121</td>\n",
       "      <td>26</td>\n",
       "    </tr>\n",
       "    <tr>\n",
       "      <th>74</th>\n",
       "      <td>nissan</td>\n",
       "      <td>hatchback</td>\n",
       "      <td>160</td>\n",
       "      <td>3071</td>\n",
       "      <td>181</td>\n",
       "      <td>25</td>\n",
       "    </tr>\n",
       "    <tr>\n",
       "      <th>8</th>\n",
       "      <td>chevrolet</td>\n",
       "      <td>hatchback</td>\n",
       "      <td>48</td>\n",
       "      <td>1488</td>\n",
       "      <td>61</td>\n",
       "      <td>53</td>\n",
       "    </tr>\n",
       "    <tr>\n",
       "      <th>19</th>\n",
       "      <td>honda</td>\n",
       "      <td>hatchback</td>\n",
       "      <td>58</td>\n",
       "      <td>1713</td>\n",
       "      <td>92</td>\n",
       "      <td>54</td>\n",
       "    </tr>\n",
       "    <tr>\n",
       "      <th>75</th>\n",
       "      <td>nissan</td>\n",
       "      <td>hatchback</td>\n",
       "      <td>200</td>\n",
       "      <td>3139</td>\n",
       "      <td>181</td>\n",
       "      <td>23</td>\n",
       "    </tr>\n",
       "  </tbody>\n",
       "</table>\n",
       "<p>159 rows × 6 columns</p>\n",
       "</div>"
      ],
      "text/plain": [
       "          make body-style  horsepower  curb-weight  engine-size  highway-mpg\n",
       "114     toyota      wagon          62         3110           92           32\n",
       "79      peugot      sedan          95         3075          120           24\n",
       "81      peugot      sedan          97         3075          120           24\n",
       "77      peugot      sedan          97         3020          120           24\n",
       "113     toyota      wagon          62         2290           92           32\n",
       "..         ...        ...         ...          ...          ...          ...\n",
       "95        saab  hatchback         160         2808          121           26\n",
       "74      nissan  hatchback         160         3071          181           25\n",
       "8    chevrolet  hatchback          48         1488           61           53\n",
       "19       honda  hatchback          58         1713           92           54\n",
       "75      nissan  hatchback         200         3139          181           23\n",
       "\n",
       "[159 rows x 6 columns]"
      ]
     },
     "execution_count": 19,
     "metadata": {},
     "output_type": "execute_result"
    }
   ],
   "source": [
    "#The third component shows a contrast between horsepower and curb_weight -- sports cars vs. wagons, it seems.\n",
    "\n",
    "idx = X_pca[\"PC3\"].sort_values(ascending=False).index\n",
    "cols = [\"make\", \"body-style\", \"horsepower\", \"curb-weight\", \"engine-size\", \"highway-mpg\"]\n",
    "df.loc[idx, cols]"
   ]
  },
  {
   "cell_type": "markdown",
   "metadata": {},
   "source": [
    "# PC1 captur most variance and has highest MI with Price. \n",
    "\n",
    "below is \n",
    "\n",
    "               PC1\t      PC2\t      PC3\t     PC4\n",
    "highway-mpg\t-0.487377\t0.674586\t-0.430971\t0.348800\n",
    "engine-size\t0.500984\t0.576444\t-0.168591\t-0.623140\n",
    "horsepower\t0.502647\t-0.286315\t-0.741524\t0.339872\n",
    "curb-weight\t0.508748\t0.361482\t0.485782\t0.611982\n",
    "\n",
    "\n",
    "The first component (PC1) shows a contrast between large, powerful vehicles with poor gas milage, and smaller, more economical vehicles with good gas milage. We might call this the \"Luxury/Economy\" axis. The next figure shows that our four chosen features mostly vary along the Luxury/Economy axis.\n",
    "\n",
    "The third component shows a contrast between horsepower and curb_weight -- sports cars vs. wagons, it seems."
   ]
  },
  {
   "cell_type": "code",
   "execution_count": 20,
   "metadata": {},
   "outputs": [
    {
     "data": {
      "image/png": "[encoded data removed]",
      "text/plain": [
       "<Figure size 432x288 with 1 Axes>"
      ]
     },
     "metadata": {},
     "output_type": "display_data"
    }
   ],
   "source": [
    "\n",
    "#PC1\n",
    "df[\"luxary_or_economy\"] = (df[\"engine-size\"] * df[\"horsepower\"] * df[\"curb-weight\"] )/ df[\"highway-mpg\"]\n",
    "\n",
    "# PC3\n",
    "df[\"sports_or_wagon\"] = df[\"curb-weight\"] / df[\"horsepower\"]\n",
    "\n",
    "df[\"price\"] = y\n",
    "sns.regplot(x=\"luxary_or_economy\", y='price', data=df, order=2);"
   ]
  },
  {
   "cell_type": "code",
   "execution_count": 21,
   "metadata": {},
   "outputs": [
    {
     "data": {
      "image/png": "[encoded data removed]",
      "text/plain": [
       "<Figure size 432x288 with 1 Axes>"
      ]
     },
     "metadata": {},
     "output_type": "display_data"
    }
   ],
   "source": [
    "sns.regplot(x=\"sports_or_wagon\", y='price', data=df, order=2);"
   ]
  },
  {
   "cell_type": "markdown",
   "metadata": {},
   "source": [
    "## Exercise\n",
    "\n"
   ]
  }
 ],
 "metadata": {
  "kernelspec": {
   "display_name": "Python 3",
   "language": "python",
   "name": "python3"
  },
  "language_info": {
   "codemirror_mode": {
    "name": "ipython",
    "version": 3
   },
   "file_extension": ".py",
   "mimetype": "text/x-python",
   "name": "python",
   "nbconvert_exporter": "python",
   "pygments_lexer": "ipython3",
   "version": "3.8.3"
  }
 },
 "nbformat": 4,
 "nbformat_minor": 4
}
