{
 "cells": [
  {
   "cell_type": "code",
   "execution_count": 72,
   "metadata": {},
   "outputs": [
    {
     "name": "stdout",
     "output_type": "stream",
     "text": [
      "df shape (208, 61)\n",
      "X shape (208, 60)\n",
      "y shape (208,)\n"
     ]
    }
   ],
   "source": [
    "## Cross Validation for binary classification problem using LOOCV\n",
    "\n",
    "# https://machinelearningmastery.com/k-fold-cross-validation/\n",
    "# https://machinelearningmastery.com/loocv-for-evaluating-machine-learning-algorithms/\n",
    "\n",
    "import pandas as pd\n",
    "\n",
    "# sonar data set\n",
    "# sonar data set description\n",
    "# https://raw.githubusercontent.com/jbrownlee/Datasets/master/sonar.names\n",
    "    \n",
    "    \n",
    "url = 'https://raw.githubusercontent.com/jbrownlee/Datasets/master/sonar.csv'\n",
    "\n",
    "df = pd.read_csv(url, header=None )\n",
    "\n",
    "X = df.iloc[:, 0:-1]\n",
    "y = df.iloc[:, -1]\n",
    "\n",
    "\n",
    "print('df shape', df.shape)\n",
    "print('X shape', X.shape)\n",
    "print('y shape', y.shape)\n",
    "\n"
   ]
  },
  {
   "cell_type": "code",
   "execution_count": 84,
   "metadata": {},
   "outputs": [],
   "source": [
    "y = y.replace('R', 0)\n",
    "y = y.replace('M', 1)"
   ]
  },
  {
   "cell_type": "code",
   "execution_count": 96,
   "metadata": {},
   "outputs": [
    {
     "name": "stdout",
     "output_type": "stream",
     "text": [
      "[0. 0. 0. 1. 1. 1. 0. 0. 1. 1. 1. 1. 1. 0. 1. 0. 0. 1. 1. 0. 0. 0. 1. 1.\n",
      " 1. 1. 1. 1. 0. 0. 1. 1. 1. 0. 0. 0. 1. 1. 1. 1. 1. 1. 1. 1. 0. 0. 0. 1.\n",
      " 1. 1. 1. 1. 1. 1. 1. 1. 0. 1. 1. 1. 1. 1. 1. 1. 1. 1. 1. 1. 1. 1. 1. 1.\n",
      " 1. 1. 1. 1. 1. 1. 1. 1. 1. 0. 1. 1. 0. 0. 1. 0. 0. 1. 1. 1. 1. 1. 1. 1.\n",
      " 1. 1. 1. 1. 0. 1. 1. 0. 1. 1. 0. 1. 1. 0. 1. 1. 1. 1. 1. 1. 1. 1. 1. 1.\n",
      " 1. 1. 1. 1. 1. 1. 1. 1. 1. 1. 1. 1. 1. 1. 1. 1. 1. 1. 1. 1. 1. 1. 1. 1.\n",
      " 1. 1. 1. 1. 1. 1. 0. 1. 1. 1. 0. 0. 1. 1. 1. 1. 1. 1. 1. 1. 1. 1. 1. 0.\n",
      " 1. 1. 0. 1. 1. 1. 1. 1. 1. 1. 0. 1. 1. 1. 1. 1. 1. 1. 1. 1. 1. 1. 1. 1.\n",
      " 1. 1. 1. 1. 1. 1. 1. 1. 1. 1. 1. 1. 1. 1. 1. 1.]\n",
      "Accuracy of classification with LOO mean 0.8317307692307693 and standard deviation 0.3741051947588567\n"
     ]
    }
   ],
   "source": [
    "# cross validation using cross_val_score method\n",
    "\n",
    "from sklearn.model_selection import cross_val_score\n",
    "from sklearn.model_selection import LeaveOneOut\n",
    "from sklearn.ensemble import RandomForestClassifier\n",
    "# loocv evaluate random forest on the sonar dataset\n",
    "\n",
    "from numpy import mean\n",
    "from numpy import std\n",
    "\n",
    "classifier = RandomForestClassifier(random_state=1)\n",
    "loo = LeaveOneOut()\n",
    "\n",
    "scores = cross_val_score(classifier, X, y, scoring='accuracy', cv= loo, n_jobs=-1)\n",
    "print(scores)\n",
    "print('Accuracy of classification with LOO mean {} and standard deviation {}'.format(mean(scores), std(scores)) )\n",
    "\n",
    "\n",
    "# Notes: In this case score is eaither 1 or 0. As each validation set is just one which either matches or not."
   ]
  },
  {
   "cell_type": "code",
   "execution_count": 99,
   "metadata": {},
   "outputs": [
    {
     "name": "stdout",
     "output_type": "stream",
     "text": [
      "[0.28571429 0.66666667 0.71428571 0.61904762 0.47619048 0.38095238\n",
      " 0.52380952 0.47619048 0.7        0.5       ]\n",
      "Accuracy of classification with kFold mean 0.5342857142857143 and standard deviation 0.1333809438805866\n"
     ]
    }
   ],
   "source": [
    "from sklearn.model_selection import KFold \n",
    "\n",
    "classifier = RandomForestClassifier(random_state=1)\n",
    "kfold = KFold(n_splits=10)\n",
    "\n",
    "scores = cross_val_score(classifier, X, y, scoring='accuracy', cv= kfold, n_jobs=-1)\n",
    "print(scores)\n",
    "print('Accuracy of classification with kFold mean {} and standard deviation {}'.format(mean(scores), std(scores)) )\n",
    "\n",
    "# Note in this case each validation set is multiple record hence the value is average of total right prediction \n"
   ]
  },
  {
   "cell_type": "code",
   "execution_count": 101,
   "metadata": {},
   "outputs": [
    {
     "name": "stdout",
     "output_type": "stream",
     "text": [
      "[0.25507246376811593, 0.41707317073170735, 0.5342857142857143, 0.77, 0.86, 0.8317307692307693]\n"
     ]
    }
   ],
   "source": [
    "# while we have used exactly the same estimator in case of Kfold as LeaveOneOut accuracy is very less 0.53 vs 0.83\n",
    "# This probably due to reduced training data set with K=10 training set is 10% smaller. \n",
    "# This may be a huge impact due to small data set\n",
    "# Let's test this hypothesis through a small simulation \n",
    "# We should test accuracy of mode for multiple value of K. K = 208 is same as LOO.\n",
    "\n",
    "\n",
    "ks = [3,5,10,50,100,208] \n",
    "\n",
    "accs = list()\n",
    "\n",
    "for k in ks : \n",
    "    \n",
    "    classifier = RandomForestClassifier(random_state=1)\n",
    "    kfold = KFold(n_splits=k)\n",
    "    scores = cross_val_score(classifier, X, y, scoring='accuracy', cv= kfold, n_jobs=-1)\n",
    "    accs.append(mean(scores))\n",
    "    \n",
    "print(accs)\n",
    "\n",
    "# we got accuracy [0.255, 0.417, 0.534, 0.77, 0.86, 0.83]\n",
    "# note for K-208 accuracy is same as LOO."
   ]
  },
  {
   "cell_type": "markdown",
   "metadata": {},
   "source": [
    "## LOOCV for Regression"
   ]
  },
  {
   "cell_type": "code",
   "execution_count": 2,
   "metadata": {},
   "outputs": [
    {
     "name": "stdout",
     "output_type": "stream",
     "text": [
      "df_hshape (506, 14)\n",
      "X shape (506, 13)\n",
      "y shape (506,)\n"
     ]
    }
   ],
   "source": [
    "#Data set to be used for this exercise is Housing price \n",
    "# https://raw.githubusercontent.com/jbrownlee/Datasets/master/housing.csv\n",
    "# data description >  https://raw.githubusercontent.com/jbrownlee/Datasets/master/housing.names\n",
    "\n",
    "import pandas as pd\n",
    "\n",
    "df_h = pd.read_csv('https://raw.githubusercontent.com/jbrownlee/Datasets/master/housing.csv', header=None) \n",
    "X = df_h.iloc[:,  0:-1]\n",
    "y = df_h.iloc[:, -1]\n",
    "\n",
    "\n",
    "print('df_hshape', df_h.shape)\n",
    "print('X shape', X.shape)\n",
    "print('y shape', y.shape)\n"
   ]
  },
  {
   "cell_type": "code",
   "execution_count": 14,
   "metadata": {},
   "outputs": [
    {
     "name": "stdout",
     "output_type": "stream",
     "text": [
      "[-5.0300e+00 -1.2520e+00 -1.0500e-01 -1.1870e+00 -2.0980e+00 -5.1560e+00\n",
      " -2.7600e+00 -9.6870e+00 -2.0060e+00 -2.2500e-01 -5.9110e+00 -1.5930e+00\n",
      " -3.0700e-01 -6.3500e-01 -1.5670e+00 -3.7000e-01 -1.5360e+00 -7.8100e-01\n",
      " -1.7130e+00 -1.5990e+00 -1.0420e+00 -1.2110e+00 -6.0100e-01 -9.9600e-01\n",
      " -1.1810e+00 -1.6510e+00 -8.7300e-01 -3.1700e-01 -1.7870e+00 -2.4750e+00\n",
      " -2.0370e+00 -5.1990e+00 -3.0290e+00 -1.4290e+00 -1.1150e+00 -2.1250e+00\n",
      " -8.6700e-01 -3.3300e-01 -3.7470e+00 -2.8180e+00 -1.2250e+00 -4.4430e+00\n",
      " -9.6100e-01 -1.6700e-01 -6.6900e-01 -4.3400e-01 -1.1500e-01 -3.0290e+00\n",
      " -4.3040e+00 -3.4800e-01 -1.1840e+00 -1.5510e+00 -4.2900e-01 -2.9960e+00\n",
      " -3.8500e-01 -1.4720e+00 -1.8240e+00 -7.4200e-01 -3.9500e-01 -7.8900e-01\n",
      " -2.2000e-01 -2.8700e+00 -1.9280e+00 -8.1800e-01 -6.3000e-01 -1.4700e+00\n",
      " -8.1600e-01 -1.7110e+00 -1.7730e+00 -4.5000e-02 -3.9900e-01 -3.5600e-01\n",
      " -2.8600e-01 -5.7300e-01 -9.0000e-02 -1.7050e+00 -9.5400e-01 -7.6400e-01\n",
      " -4.4700e-01 -9.9500e-01 -1.0170e+00 -2.2170e+00 -1.5040e+00 -5.5600e-01\n",
      " -1.7270e+00 -2.1100e-01 -1.6370e+00 -7.6000e-02 -7.5030e+00 -3.2790e+00\n",
      " -2.4300e-01 -4.7400e-01 -1.4000e-01 -3.6900e-01 -1.0840e+00 -1.1650e+00\n",
      " -7.9500e-01 -6.6240e+00 -1.2760e+00 -1.0050e+00 -2.6650e+00 -1.1900e-01\n",
      " -8.5000e-01 -6.9700e-01 -9.7000e-02 -3.7000e-02 -1.2410e+00 -9.2900e-01\n",
      " -6.3000e-01 -3.6900e-01 -1.2660e+00 -2.3600e+00 -5.4300e-01 -5.1600e-01\n",
      " -2.8080e+00 -7.2500e-01 -8.8900e-01 -7.0800e-01 -1.6320e+00 -5.7200e-01\n",
      " -8.3700e-01 -1.2040e+00 -1.5720e+00 -2.0600e-01 -5.9800e-01 -2.3290e+00\n",
      " -1.0340e+00 -1.3900e-01 -9.4400e-01 -1.8580e+00 -4.6500e-01 -6.4200e-01\n",
      " -3.4050e+00 -1.1590e+00 -5.1000e-02 -8.8100e-01 -8.6600e-01 -1.1980e+00\n",
      " -2.2570e+00 -2.7190e+00 -1.5110e+00 -4.7500e-01 -1.2580e+00 -1.8550e+00\n",
      " -2.8210e+00 -1.0130e+00 -6.8500e-01 -3.8500e-01 -4.1410e+00 -6.0800e-01\n",
      " -1.7480e+00 -7.7200e-01 -5.7390e+00 -3.5610e+00 -3.3100e-01 -2.2730e+00\n",
      " -3.4430e+00 -1.1273e+01 -8.4500e-01 -4.4240e+00 -1.8190e+00 -5.4980e+00\n",
      " -2.7900e+00 -1.4560e+00 -2.0670e+00 -2.9500e+00 -1.1670e+00 -3.5930e+00\n",
      " -1.9550e+00 -1.0000e-01 -2.8920e+00 -2.9080e+00 -3.5270e+00 -7.6800e-01\n",
      " -1.6670e+00 -2.6020e+00 -9.6600e-01 -6.5700e-01 -1.7180e+00 -3.9310e+00\n",
      " -4.3050e+00 -1.0599e+01 -2.3210e+00 -3.1620e+00 -2.7640e+00 -4.1840e+00\n",
      " -8.3100e+00 -4.6100e+00 -9.8900e-01 -8.0900e-01 -6.7070e+00 -1.1870e+00\n",
      " -1.3910e+00 -1.6090e+00 -3.7600e-01 -2.4820e+00 -1.1200e+00 -1.6790e+00\n",
      " -1.5130e+00 -2.6720e+00 -1.8660e+00 -1.3080e+00 -4.8590e+00 -5.6300e-01\n",
      " -2.0640e+00 -2.1000e-02 -1.9030e+00 -3.2180e+00 -3.3330e+00 -2.2370e+00\n",
      " -1.8400e+00 -5.9000e-02 -1.0310e+00 -4.4670e+00 -5.5920e+00 -1.2610e+00\n",
      " -2.2620e+00 -4.9980e+00 -1.3970e+00 -7.3800e-01 -2.0080e+00 -3.4540e+00\n",
      " -1.3370e+00 -4.2230e+00 -1.7390e+00 -7.7220e+00 -8.5890e+00 -9.4300e-01\n",
      " -2.9980e+00 -2.0460e+00 -3.1550e+00 -8.1800e-01 -3.6060e+00 -3.9780e+00\n",
      " -2.9700e+00 -1.5100e+00 -1.8330e+00 -1.5000e+00 -4.1800e-01 -2.7530e+00\n",
      " -5.4440e+00 -1.4800e+00 -6.1100e-01 -4.7100e-01 -7.2700e-01 -1.0940e+00\n",
      " -2.8910e+00 -3.0800e-01 -1.6560e+00 -9.4000e-02 -7.5000e-02 -1.4040e+00\n",
      " -2.6360e+00 -2.2590e+00 -8.4400e-01 -1.2190e+00 -2.7470e+00 -3.3490e+00\n",
      " -1.3120e+00 -4.7000e-02 -1.1210e+00 -8.8700e-01 -2.7640e+00 -3.9600e-01\n",
      " -2.7840e+00 -1.2570e+00 -4.6950e+00 -4.8550e+00 -2.4440e+00 -5.3700e-01\n",
      " -4.8000e-02 -3.5300e-01 -9.5000e-01 -8.2840e+00 -1.6060e+00 -5.7600e-01\n",
      " -1.4930e+00 -1.8470e+00 -4.5610e+00 -4.3500e+00 -1.3610e+00 -1.4380e+00\n",
      " -4.1100e-01 -4.2220e+00 -1.1750e+00 -3.6600e-01 -2.4460e+00 -6.8000e-02\n",
      " -9.8300e-01 -6.0500e-01 -2.9610e+00 -3.7450e+00 -5.8900e-01 -1.4700e+00\n",
      " -2.0000e-02 -1.8780e+00 -1.2210e+00 -7.8700e-01 -1.8400e+00 -4.5580e+00\n",
      " -4.6570e+00 -3.4540e+00 -3.2620e+00 -4.6200e-01 -2.9040e+00 -1.6750e+00\n",
      " -1.3420e+00 -1.9400e+00 -7.0120e+00 -3.5200e-01 -4.2400e+00 -2.0200e+00\n",
      " -5.6700e-01 -9.4800e-01 -3.7800e-01 -3.4430e+00 -1.3110e+00 -3.4100e-01\n",
      " -8.0100e-01 -6.2600e-01 -2.7200e-01 -9.1000e-01 -1.4710e+00 -5.9500e-01\n",
      " -1.4700e+00 -2.5600e-01 -1.2300e+00 -1.3510e+00 -1.4180e+00 -9.0100e-01\n",
      " -2.1440e+00 -2.1860e+00 -1.1840e+00 -8.3100e-01 -2.8740e+00 -1.0990e+00\n",
      " -1.5300e-01 -1.2540e+00 -4.6000e-01 -1.1040e+00 -1.4080e+00 -4.0100e-01\n",
      " -7.6210e+00 -3.6200e+00 -4.0600e-01 -2.7480e+00 -1.6350e+00 -8.8300e-01\n",
      " -2.8020e+00 -1.3300e+00 -5.5000e-01 -2.1270e+00 -2.8400e+00 -1.8700e-01\n",
      " -1.4510e+00 -1.0290e+00 -3.2520e+00 -9.0200e-01 -1.6620e+00 -1.7760e+00\n",
      " -2.6270e+00 -8.5100e-01 -3.1000e-02 -1.8390e+00 -2.1424e+01 -5.6930e+00\n",
      " -2.3120e+00 -4.2320e+00 -1.3436e+01 -8.9510e+00 -1.3763e+01 -1.0087e+01\n",
      " -8.9350e+00 -1.9350e+00 -2.4790e+00 -1.5124e+01 -2.5020e+00 -5.5000e-01\n",
      " -2.4460e+00 -1.6600e+00 -9.6880e+00 -4.1000e-02 -3.4500e-01 -1.6690e+00\n",
      " -6.0000e-02 -2.1940e+00 -3.5650e+00 -1.2960e+00 -1.6740e+00 -3.0000e-03\n",
      " -9.5400e-01 -8.0490e+00 -5.2700e-01 -1.5560e+00 -1.4820e+00 -1.0580e+00\n",
      " -1.9900e+00 -4.2650e+00 -1.9090e+00 -4.9150e+00 -3.2050e+00 -3.8580e+00\n",
      " -1.0270e+00 -3.2580e+00 -1.1200e+00 -4.4980e+00 -1.0490e+00 -6.2700e+00\n",
      " -2.6660e+00 -9.6400e+00 -1.2973e+01 -1.5870e+00 -4.5220e+00 -2.0330e+00\n",
      " -1.9620e+00 -1.7140e+00 -2.5870e+00 -2.4850e+00 -2.3400e-01 -4.6120e+00\n",
      " -2.6510e+00 -1.8890e+00 -6.1400e-01 -3.6600e-01 -3.5660e+00 -1.4200e+00\n",
      " -5.6290e+00 -4.6810e+00 -1.9530e+00 -2.0680e+00 -6.9400e-01 -7.0060e+00\n",
      " -5.1310e+00 -1.4040e+00 -2.0020e+00 -1.9340e+00 -2.8860e+00 -5.9700e-01\n",
      " -3.5400e-01 -1.0810e+00 -7.2100e-01 -3.7240e+00 -2.9760e+00 -1.1700e+00\n",
      " -2.4300e-01 -9.3700e-01 -1.2700e-01 -3.0230e+00 -5.0300e-01 -1.8620e+00\n",
      " -1.4420e+00 -6.9200e-01 -1.9300e-01 -5.6980e+00 -1.3470e+00 -7.9500e-01\n",
      " -2.9990e+00 -2.2110e+00 -3.0900e-01 -2.9610e+00 -9.4600e-01 -1.2290e+00\n",
      " -1.1730e+00 -1.5710e+00 -1.4900e-01 -9.4500e-01 -4.4410e+00 -5.0820e+00\n",
      " -5.1690e+00 -2.5310e+00 -1.8410e+00 -1.4220e+00 -4.1770e+00 -4.4090e+00\n",
      " -6.9600e-01 -1.8980e+00 -6.7000e-01 -1.9460e+00 -1.4100e-01 -1.2830e+00\n",
      " -1.9910e+00 -4.2670e+00 -5.6640e+00 -1.5170e+00 -6.8300e-01 -6.6900e-01\n",
      " -4.2000e-02 -6.3600e-01 -1.2390e+00 -5.8810e+00 -2.7650e+00 -2.2540e+00\n",
      " -6.9000e-02 -2.2850e+00 -3.7470e+00 -3.9530e+00 -1.1600e+00 -1.7400e+00\n",
      " -2.9700e-01 -2.3470e+00 -3.4580e+00 -1.4140e+00 -1.8570e+00 -3.3640e+00\n",
      " -3.8710e+00 -8.6910e+00]\n",
      "Accuracy of classification with LOO mean -2.1821818181818182 and standard deviation 2.338156398198422\n"
     ]
    }
   ],
   "source": [
    "# Leave One Out CV \n",
    "\n",
    "from sklearn.model_selection import cross_val_score\n",
    "from sklearn.model_selection import LeaveOneOut\n",
    "from sklearn.ensemble import RandomForestRegressor\n",
    "# loocv evaluate random forest on the hosuing dataset\n",
    "\n",
    "from numpy import mean\n",
    "from numpy import std\n",
    "\n",
    "loo = LeaveOneOut()\n",
    "regressor = RandomForestRegressor(random_state=1)\n",
    "scores = cross_val_score(regressor, X, y, scoring='neg_mean_absolute_error', cv=loo, n_jobs=-1)\n",
    "\n",
    "print(scores)\n",
    "print('Accuracy of classification with LOO mean {} and standard deviation {}'.format(mean(scores), std(scores)) )\n"
   ]
  },
  {
   "cell_type": "code",
   "execution_count": 3,
   "metadata": {},
   "outputs": [
    {
     "name": "stdout",
     "output_type": "stream",
     "text": [
      "[-2.61635294 -1.49268627 -1.63845098 -3.62576471 -2.72854902 -3.088\n",
      " -2.06854    -6.23714    -3.71356    -2.78664   ]\n",
      "Accuracy of classification with KFold mean -2.9995683921568626 and standard deviation 1.2902475800799147\n"
     ]
    }
   ],
   "source": [
    "# K Fold with K =10\n",
    "\n",
    "from sklearn.model_selection import cross_val_score\n",
    "from sklearn.model_selection import KFold\n",
    "from sklearn.ensemble import RandomForestRegressor\n",
    "# loocv evaluate random forest on the hosuing dataset\n",
    "\n",
    "from numpy import mean\n",
    "from numpy import std\n",
    "\n",
    "kfold = KFold(10)\n",
    "regressor = RandomForestRegressor(random_state=1)\n",
    "scores = cross_val_score(regressor, X, y, scoring='neg_mean_absolute_error', cv=kfold, n_jobs=-1)\n",
    "\n",
    "print(scores)\n",
    "print('Accuracy of classification with KFold mean {} and standard deviation {}'.format(mean(scores), std(scores)) )\n"
   ]
  },
  {
   "cell_type": "code",
   "execution_count": null,
   "metadata": {},
   "outputs": [],
   "source": []
  }
 ],
 "metadata": {
  "kernelspec": {
   "display_name": "Python 3",
   "language": "python",
   "name": "python3"
  },
  "language_info": {
   "codemirror_mode": {
    "name": "ipython",
    "version": 3
   },
   "file_extension": ".py",
   "mimetype": "text/x-python",
   "name": "python",
   "nbconvert_exporter": "python",
   "pygments_lexer": "ipython3",
   "version": "3.8.3"
  }
 },
 "nbformat": 4,
 "nbformat_minor": 4
}
